{
 "cells": [
  {
   "cell_type": "code",
   "execution_count": null,
   "metadata": {
    "_cell_guid": "b1076dfc-b9ad-4769-8c92-a6c4dae69d19",
    "_uuid": "8f2839f25d086af736a60e9eeb907d3b93b6e0e5",
    "execution": {
     "iopub.execute_input": "2023-09-08T06:19:27.526463Z",
     "iopub.status.busy": "2023-09-08T06:19:27.526109Z",
     "iopub.status.idle": "2023-09-08T06:20:09.894509Z",
     "shell.execute_reply": "2023-09-08T06:20:09.893219Z",
     "shell.execute_reply.started": "2023-09-08T06:19:27.526430Z"
    }
   },
   "outputs": [
    {
     "name": "stdout",
     "output_type": "stream",
     "text": [
      "Cloning into 'ERA-V1'...\n",
      "remote: Enumerating objects: 921, done.\u001b[K\n",
      "remote: Counting objects: 100% (113/113), done.\u001b[K\n",
      "remote: Compressing objects: 100% (83/83), done.\u001b[K\n",
      "remote: Total 921 (delta 65), reused 69 (delta 30), pack-reused 808\u001b[K\n",
      "Receiving objects: 100% (921/921), 52.29 MiB | 5.35 MiB/s, done.\n",
      "Resolving deltas: 100% (464/464), done.\n",
      "Already up to date.\n"
     ]
    }
   ],
   "source": [
    "! git clone https://github.com/niharikavadapalli/ERA-V1.git\n",
    "!git -C ERA-V1 pull\n",
    "\n",
    "! pip install --quiet \"pandas\" \"torch\" \"torchvision\" \"ipython[notebook]\" \"seaborn\" \"pytorch-lightning>=1.4\" \"torchmetrics>=0.6\" \"lightning-bolts\" \"torch-lr-finder\" \"grad-cam\" \"gradio\" \"torchinfo\""
   ]
  },
  {
   "cell_type": "code",
   "execution_count": 2,
   "metadata": {
    "execution": {
     "iopub.execute_input": "2023-09-08T06:20:09.898440Z",
     "iopub.status.busy": "2023-09-08T06:20:09.898117Z",
     "iopub.status.idle": "2023-09-08T06:20:11.229423Z",
     "shell.execute_reply": "2023-09-08T06:20:11.228399Z",
     "shell.execute_reply.started": "2023-09-08T06:20:09.898413Z"
    }
   },
   "outputs": [
    {
     "name": "stdout",
     "output_type": "stream",
     "text": [
      "Already up to date.\n"
     ]
    }
   ],
   "source": [
    "\n",
    "!git -C ERA-V1 pull"
   ]
  },
  {
   "cell_type": "code",
   "execution_count": 3,
   "metadata": {
    "execution": {
     "iopub.execute_input": "2023-09-08T06:20:11.232607Z",
     "iopub.status.busy": "2023-09-08T06:20:11.231800Z",
     "iopub.status.idle": "2023-09-08T06:20:29.755865Z",
     "shell.execute_reply": "2023-09-08T06:20:29.754887Z",
     "shell.execute_reply.started": "2023-09-08T06:20:11.232567Z"
    }
   },
   "outputs": [
    {
     "name": "stderr",
     "output_type": "stream",
     "text": [
      "/opt/conda/lib/python3.10/site-packages/scipy/__init__.py:146: UserWarning: A NumPy version >=1.16.5 and <1.23.0 is required for this version of SciPy (detected version 1.23.5\n",
      "  warnings.warn(f\"A NumPy version >={np_minversion} and <{np_maxversion}\"\n"
     ]
    }
   ],
   "source": [
    "import sys\n",
    "sys.path.append(\"ERA-V1/ERA-V1-Session-16\")\n",
    "\n",
    "import torch\n",
    "import torch.nn as nn\n",
    "import torch.optim\n",
    "\n",
    "%load_ext tensorboard\n",
    "from torch.utils.tensorboard import SummaryWriter\n",
    "\n",
    "\n",
    "from config import get_config, get_weights_file_path\n",
    "from train import train_model, get_ds, get_model, run_validation"
   ]
  },
  {
   "cell_type": "code",
   "execution_count": 4,
   "metadata": {
    "execution": {
     "iopub.execute_input": "2023-09-08T06:20:29.758912Z",
     "iopub.status.busy": "2023-09-08T06:20:29.758514Z",
     "iopub.status.idle": "2023-09-08T06:20:29.763888Z",
     "shell.execute_reply": "2023-09-08T06:20:29.762891Z",
     "shell.execute_reply.started": "2023-09-08T06:20:29.758878Z"
    }
   },
   "outputs": [],
   "source": [
    "config = get_config()\n",
    "config['batch_size'] = 16\n",
    "config['d_model'] = 512\n",
    "config['preload'] = None\n",
    "config['num_epochs'] = 70"
   ]
  },
  {
   "cell_type": "code",
   "execution_count": 5,
   "metadata": {
    "execution": {
     "iopub.execute_input": "2023-09-08T06:20:29.766724Z",
     "iopub.status.busy": "2023-09-08T06:20:29.765952Z",
     "iopub.status.idle": "2023-09-08T06:20:29.845286Z",
     "shell.execute_reply": "2023-09-08T06:20:29.843689Z",
     "shell.execute_reply.started": "2023-09-08T06:20:29.766673Z"
    }
   },
   "outputs": [
    {
     "name": "stdout",
     "output_type": "stream",
     "text": [
      "Using Device:  cuda\n"
     ]
    },
    {
     "data": {
      "text/plain": [
       "<torch.cuda.amp.autocast_mode.autocast at 0x7c8c6c21b5e0>"
      ]
     },
     "execution_count": 5,
     "metadata": {},
     "output_type": "execute_result"
    }
   ],
   "source": [
    "import torch\n",
    "device = torch.device(\"cuda\" if torch.cuda.is_available() else \"cpu\")\n",
    "print(\"Using Device: \", device)\n",
    "\n",
    "cur_dtype = 'bfloat16' if torch.cuda.is_available() and torch.cuda.is_bf16_supported() else 'float16'\n",
    "torch.cuda.amp.autocast(enabled=True, dtype = cur_dtype)"
   ]
  },
  {
   "cell_type": "code",
   "execution_count": 6,
   "metadata": {
    "execution": {
     "iopub.execute_input": "2023-09-08T06:20:29.849232Z",
     "iopub.status.busy": "2023-09-08T06:20:29.848913Z",
     "iopub.status.idle": "2023-09-08T06:20:29.858576Z",
     "shell.execute_reply": "2023-09-08T06:20:29.857587Z",
     "shell.execute_reply.started": "2023-09-08T06:20:29.849206Z"
    }
   },
   "outputs": [],
   "source": [
    "from torch.utils.tensorboard import SummaryWriter\n",
    "\n",
    "writer = SummaryWriter(config['experiment_name'])"
   ]
  },
  {
   "cell_type": "code",
   "execution_count": 7,
   "metadata": {
    "execution": {
     "iopub.execute_input": "2023-09-08T06:20:29.861388Z",
     "iopub.status.busy": "2023-09-08T06:20:29.860596Z",
     "iopub.status.idle": "2023-09-08T06:21:41.702752Z",
     "shell.execute_reply": "2023-09-08T06:21:41.701738Z",
     "shell.execute_reply.started": "2023-09-08T06:20:29.861355Z"
    }
   },
   "outputs": [
    {
     "data": {
      "application/vnd.jupyter.widget-view+json": {
       "model_id": "04521b5b6c5f4046aaa12dc85d5d5841",
       "version_major": 2,
       "version_minor": 0
      },
      "text/plain": [
       "Downloading builder script:   0%|          | 0.00/2.40k [00:00<?, ?B/s]"
      ]
     },
     "metadata": {},
     "output_type": "display_data"
    },
    {
     "data": {
      "application/vnd.jupyter.widget-view+json": {
       "model_id": "c595acc175bd4698a8904639c3e79172",
       "version_major": 2,
       "version_minor": 0
      },
      "text/plain": [
       "Downloading metadata:   0%|          | 0.00/7.98k [00:00<?, ?B/s]"
      ]
     },
     "metadata": {},
     "output_type": "display_data"
    },
    {
     "name": "stdout",
     "output_type": "stream",
     "text": [
      "Downloading and preparing dataset opus_books/en-fr (download: 11.45 MiB, generated: 31.47 MiB, post-processed: Unknown size, total: 42.92 MiB) to /root/.cache/huggingface/datasets/opus_books/en-fr/1.0.0/e8f950a4f32dc39b7f9088908216cd2d7e21ac35f893d04d39eb594746af2daf...\n"
     ]
    },
    {
     "data": {
      "application/vnd.jupyter.widget-view+json": {
       "model_id": "51a93d1cccae40469aeff58a2e42c620",
       "version_major": 2,
       "version_minor": 0
      },
      "text/plain": [
       "Downloading data:   0%|          | 0.00/12.0M [00:00<?, ?B/s]"
      ]
     },
     "metadata": {},
     "output_type": "display_data"
    },
    {
     "data": {
      "application/vnd.jupyter.widget-view+json": {
       "model_id": "",
       "version_major": 2,
       "version_minor": 0
      },
      "text/plain": [
       "Generating train split:   0%|          | 0/127085 [00:00<?, ? examples/s]"
      ]
     },
     "metadata": {},
     "output_type": "display_data"
    },
    {
     "name": "stdout",
     "output_type": "stream",
     "text": [
      "Dataset opus_books downloaded and prepared to /root/.cache/huggingface/datasets/opus_books/en-fr/1.0.0/e8f950a4f32dc39b7f9088908216cd2d7e21ac35f893d04d39eb594746af2daf. Subsequent calls will reuse this data.\n",
      "Max length of source sentence: 471\n",
      "Max length of target sentence: 482\n",
      "Total Parameters:  66564976\n"
     ]
    }
   ],
   "source": [
    "import torch.nn as nn\n",
    "import torch.optim\n",
    "\n",
    "train_dataloader, val_dataloader, tokenizer_src, tokenizer_tgt = get_ds(config)\n",
    "\n",
    "model = get_model(config, tokenizer_src.get_vocab_size(), tokenizer_tgt.get_vocab_size()).to(device)\n",
    "\n",
    "loss_fn = nn.CrossEntropyLoss(ignore_index=tokenizer_src.token_to_id('[PAD]'), label_smoothing=0.1).to(device)\n",
    "\n",
    "optimizer = torch.optim.Adam(model.parameters(), lr=config['lr'], eps=1e-9)"
   ]
  },
  {
   "cell_type": "code",
   "execution_count": 8,
   "metadata": {
    "execution": {
     "iopub.execute_input": "2023-09-08T06:21:41.704699Z",
     "iopub.status.busy": "2023-09-08T06:21:41.704062Z",
     "iopub.status.idle": "2023-09-08T06:21:41.712065Z",
     "shell.execute_reply": "2023-09-08T06:21:41.711012Z",
     "shell.execute_reply.started": "2023-09-08T06:21:41.704664Z"
    }
   },
   "outputs": [],
   "source": [
    "MAX_LR = 10**-3\n",
    "STEPS_PER_EPOCH = len(train_dataloader)\n",
    "EPOCHS = config['num_epochs']\n",
    "\n",
    "scheduler = torch.optim.lr_scheduler.OneCycleLR(optimizer,\n",
    "                                               max_lr = MAX_LR,\n",
    "                                               steps_per_epoch = STEPS_PER_EPOCH,\n",
    "                                               epochs = EPOCHS,\n",
    "                                               pct_start = 1/7 if EPOCHS != 1 else 0.5,\n",
    "                                               div_factor = 10,\n",
    "                                               three_phase = True,\n",
    "                                               final_div_factor = 10,\n",
    "                                               anneal_strategy=\"linear\")"
   ]
  },
  {
   "cell_type": "code",
   "execution_count": 9,
   "metadata": {
    "execution": {
     "iopub.execute_input": "2023-09-08T06:21:41.713878Z",
     "iopub.status.busy": "2023-09-08T06:21:41.713285Z",
     "iopub.status.idle": "2023-09-08T15:54:42.298641Z",
     "shell.execute_reply": "2023-09-08T15:54:42.297560Z",
     "shell.execute_reply.started": "2023-09-08T06:21:41.713842Z"
    }
   },
   "outputs": [
    {
     "name": "stderr",
     "output_type": "stream",
     "text": [
      "processing epoch 00: 100%|██████████| 3823/3823 [08:04<00:00,  7.89it/s, loss=5.115]\n",
      "stty: 'standard input': Inappropriate ioctl for device\n"
     ]
    },
    {
     "name": "stdout",
     "output_type": "stream",
     "text": [
      "--------------------------------------------------------------------------------\n",
      "    SOURCE: Par malheur les soldats, à minuit trois quarts qu’il était alors, n’étaient pas encore endormis ; pendant qu’il marchait à pas de loup sur le toit de grosses tuiles creuses, Fabrice les entendait qui disaient que le diable était sur le toit, et qu’il fallait essayer de le tuer d’un coup de fusil.\n",
      "    TARGET: Unfortunately, the soldiers, at a quarter to one in the morning, as it now was, had not yet gone to sleep; while be was creeping on tiptoe over the roof of large curved tiles, Fabrizio could hear them saying that the devil was on the roof, and that they must try to kill him with a shot from a musket.\n",
      " PREDICTED: The Duchessa was the Duchessa , and the Duchessa , and the Duchessa , and the Duchessa to the Duchessa .\n"
     ]
    },
    {
     "name": "stderr",
     "output_type": "stream",
     "text": [
      "/opt/conda/lib/python3.10/site-packages/torchmetrics/utilities/prints.py:62: FutureWarning: Importing `CharErrorRate` from `torchmetrics` was deprecated and will be removed in 2.0. Import `CharErrorRate` from `torchmetrics.text` instead.\n",
      "  _future_warning(\n",
      "/opt/conda/lib/python3.10/site-packages/torchmetrics/utilities/prints.py:62: FutureWarning: Importing `WordErrorRate` from `torchmetrics` was deprecated and will be removed in 2.0. Import `WordErrorRate` from `torchmetrics.text` instead.\n",
      "  _future_warning(\n",
      "/opt/conda/lib/python3.10/site-packages/torchmetrics/utilities/prints.py:62: FutureWarning: Importing `BLEUScore` from `torchmetrics` was deprecated and will be removed in 2.0. Import `BLEUScore` from `torchmetrics.text` instead.\n",
      "  _future_warning(\n"
     ]
    },
    {
     "name": "stdout",
     "output_type": "stream",
     "text": [
      "--------------------------------------------------------------------------------\n",
      "    SOURCE: Show yourself precisely as you were a week before you were honoured with her favours.'\n",
      "    TARGET: Montrez-vous précisément tel que vous étiez huit jours avant d’être honoré de ses bontés.\n",
      " PREDICTED: Vous vous , vous , vous à la main , et les yeux .\n",
      "--------------------------------------------------------------------------------\n"
     ]
    },
    {
     "name": "stderr",
     "output_type": "stream",
     "text": [
      "processing epoch 01: 100%|██████████| 3823/3823 [08:01<00:00,  7.94it/s, loss=4.837]\n",
      "stty: 'standard input': Inappropriate ioctl for device\n"
     ]
    },
    {
     "name": "stdout",
     "output_type": "stream",
     "text": [
      "--------------------------------------------------------------------------------\n",
      "    SOURCE: It does not govern wages; it obeys competition under pain of ruin.\n",
      "    TARGET: Elle n'est pas la maîtresse du salaire, elle obéit a la concurrence, sous peine de ruine.\n",
      " PREDICTED: Il ne pas , il ne pas de .\n",
      "--------------------------------------------------------------------------------\n",
      "    SOURCE: \"True!\" said Maheu.\n",
      "    TARGET: —C'est vrai, dit Maheu.\n",
      " PREDICTED: -- C ' est vrai ! dit Maheu .\n",
      "--------------------------------------------------------------------------------\n"
     ]
    },
    {
     "name": "stderr",
     "output_type": "stream",
     "text": [
      "processing epoch 02: 100%|██████████| 3823/3823 [08:01<00:00,  7.93it/s, loss=3.888]\n",
      "stty: 'standard input': Inappropriate ioctl for device\n"
     ]
    },
    {
     "name": "stdout",
     "output_type": "stream",
     "text": [
      "--------------------------------------------------------------------------------\n",
      "    SOURCE: She was like a torch which has suddenly been brought from broad daylight into the dark.\n",
      "    TARGET: C’était comme un flambeau qu’on venait d’apporter du grand jour dans l’ombre.\n",
      " PREDICTED: Elle était comme un chat qui a été brusquement de la journée dans le jour .\n",
      "--------------------------------------------------------------------------------\n",
      "    SOURCE: \"It is very hot,\" said Athos, drawing his sword in its turn, \"and yet I cannot take off my doublet; for I just now felt my wound begin to bleed again, and I should not like to annoy Monsieur with the sight of blood which he has not drawn from me himself.\"\n",
      "    TARGET: «Il fait très chaud, dit Athos en tirant son épée à son tour, et cependant je ne saurais ôter mon pourpoint; car, tout à l'heure encore, j'ai senti que ma blessure saignait, et je craindrais de gêner monsieur en lui montrant du sang qu'il ne m'aurait pas tiré lui-même.\n",
      " PREDICTED: -- C ' est bien très bien , dit Athos , en regardant son épée , et je ne puis pas me rendre à ma réponse , je ne me pas de ma réponse .\n",
      "--------------------------------------------------------------------------------\n"
     ]
    },
    {
     "name": "stderr",
     "output_type": "stream",
     "text": [
      "processing epoch 03: 100%|██████████| 3823/3823 [08:03<00:00,  7.90it/s, loss=3.337]\n",
      "stty: 'standard input': Inappropriate ioctl for device\n"
     ]
    },
    {
     "name": "stdout",
     "output_type": "stream",
     "text": [
      "--------------------------------------------------------------------------------\n",
      "    SOURCE: And the shirts stood out from the chests like cuirasses!\n",
      "    TARGET: Et les chemises sur les poitrines bombaient comme des cuirasses!\n",
      " PREDICTED: Et les se par la cheminée , comme des !\n",
      "--------------------------------------------------------------------------------\n",
      "    SOURCE: \"Monseigneur!\" she cried, still pressed against the opening, and trembling lest suspicion should lead them to thrust their heads through and look into her cell; \"monseigneur, I swear to you that 'twas a cart which broke this grating.\n",
      "    TARGET: – Monseigneur, cria-t-elle toujours collée devant la lucarne, et tremblant que le soupçon ne les poussât à y passer la tête et à regarder dans la cellule, monseigneur, je vous jure que c’est une charrette qui a brisé cette grille.\n",
      " PREDICTED: -- Monseigneur ! s ' écria - t - elle , toujours sur la lampe , et je les de la taille , et je la porte de la poitrine , je le jure , et je la jure de la porte , et je le jure , à la porte , je le jure , je le jure que je le jure que je le jure en la porte Milady le jure en la porte en la porte Milady le jure en la porte en la porte , et je le regarder sur le jure , et je le jure que je la porte Milady le jure que je la gorge , et je le jure que je le regarder Milady le jure Milady le jure Milady le jure Milady le jure Milady le jure en la porte Milady le jure en la porte en la porte\n",
      "--------------------------------------------------------------------------------\n"
     ]
    },
    {
     "name": "stderr",
     "output_type": "stream",
     "text": [
      "processing epoch 04: 100%|██████████| 3823/3823 [07:58<00:00,  7.98it/s, loss=2.879]\n",
      "stty: 'standard input': Inappropriate ioctl for device\n"
     ]
    },
    {
     "name": "stdout",
     "output_type": "stream",
     "text": [
      "--------------------------------------------------------------------------------\n",
      "    SOURCE: \"He still doubts,\" thought Milady; \"I have not been earnest enough.\"\n",
      "    TARGET: «Il doute encore, pensa Milady, je n'ai pas été assez vraie.»\n",
      " PREDICTED: -- Il n ' y a pas de doute , pensa Milady ; je n ' ai pas été assez sérieux .\n",
      "--------------------------------------------------------------------------------\n",
      "    SOURCE: Hoots arose, and then they were surprised to see Father Bonnemort standing on the trunk and about to speak in the midst of the tumult.\n",
      "    TARGET: Des huées s'élevaient, et l'on fut surpris d'apercevoir, debout sur le tronc, le pere Bonnemort en train de parler au milieu du vacarme.\n",
      " PREDICTED: Des bruits se levèrent , et ils étaient surpris de voir le pere Bonnemort , et à parler au milieu du tumulte .\n",
      "--------------------------------------------------------------------------------\n"
     ]
    },
    {
     "name": "stderr",
     "output_type": "stream",
     "text": [
      "processing epoch 05: 100%|██████████| 3823/3823 [07:59<00:00,  7.98it/s, loss=3.600]\n",
      "stty: 'standard input': Inappropriate ioctl for device\n"
     ]
    },
    {
     "name": "stdout",
     "output_type": "stream",
     "text": [
      "--------------------------------------------------------------------------------\n",
      "    SOURCE: For a fortnight Laurent was asking himself how he could kill Camille again.\n",
      "    TARGET: Laurent, pendant plus de quinze jours, se demanda comment il pourrait bien faire pour tuer de nouveau Camille.\n",
      " PREDICTED: Depuis quinze jours , Laurent se demandait comment il pouvait mourir Camille .\n",
      "--------------------------------------------------------------------------------\n",
      "    SOURCE: I could have flung my arms round Prudence's neck.\n",
      "    TARGET: Je fus sur le point de sauter au cou de Prudence.\n",
      " PREDICTED: Je pouvais avoir jeté mes bras autour de Prudence .\n",
      "--------------------------------------------------------------------------------\n"
     ]
    },
    {
     "name": "stderr",
     "output_type": "stream",
     "text": [
      "processing epoch 06: 100%|██████████| 3823/3823 [07:58<00:00,  7.99it/s, loss=3.217]\n",
      "stty: 'standard input': Inappropriate ioctl for device\n"
     ]
    },
    {
     "name": "stdout",
     "output_type": "stream",
     "text": [
      "--------------------------------------------------------------------------------\n",
      "    SOURCE: As he approached this beautiful girl who had deigned to speak to him, 'I must tell her the truth,' thought Julien, who was growing courageous by dint of his conquered shyness.\n",
      "    TARGET: En s’approchant de cette jeune fille si belle, qui daignait lui adresser la parole, il faut que je lui dise la vérité, pensa Julien, qui devenait courageux à force de timidité vaincue.\n",
      " PREDICTED: Comme il s ’ approcha de cette belle fille qui avait voulu lui parler , je lui dis la vérité , qui s ’ par une fantaisie de dévouement .\n",
      "--------------------------------------------------------------------------------\n",
      "    SOURCE: « Peu s’en fallut cependant que cela n’arrivât, vous allez voir comment.\n",
      "    TARGET: \"They were very near doing it for all that.\n",
      " PREDICTED: \" There ' s no minutes , as I shall have no longer to see , and see you .\n",
      "--------------------------------------------------------------------------------\n"
     ]
    },
    {
     "name": "stderr",
     "output_type": "stream",
     "text": [
      "processing epoch 07: 100%|██████████| 3823/3823 [07:58<00:00,  7.99it/s, loss=2.433]\n",
      "stty: 'standard input': Inappropriate ioctl for device\n"
     ]
    },
    {
     "name": "stdout",
     "output_type": "stream",
     "text": [
      "--------------------------------------------------------------------------------\n",
      "    SOURCE: It was, perhaps, the narrow limits to which he thus confined himself upon the guitar which gave birth, in great measure, to the fantastic character of the performances.\n",
      "    TARGET: C'étaient peut-être les étroites limites dans lesquelles il avait confiné son talent sur la guitare qui avaient, en grande partie, imposé à ses compositions leur caractère fantastique.\n",
      " PREDICTED: C ’ était peut - être , l ’ étroite où il se ainsi sur le gravier , dont il faisait , dans les grandes de la .\n",
      "--------------------------------------------------------------------------------\n",
      "    SOURCE: But at the first serious effort, every obstacle will disappear, and you may be certain, my dear Spilett, that neither the island, which is the boiler, nor the volcano, which is the chimney, will burst under the pressure of gas.\n",
      "    TARGET: Mais, au premier effort sérieux, tout obstacle disparaîtra, et vous pouvez être certain, mon cher Spilett, que ni l'île, qui est la chaudière, ni le volcan, qui est la cheminée, n'éclateront sous la pression des gaz.\n",
      " PREDICTED: Mais , au premier effort , tous les obstacles , et vous pouvez être certain , mon cher Spilett , que l ' île , n ' est pas arrivé , ce volcan , au volcan est arrivé du volcan , du volcan , au volcan , ce volcan , n ' est arrivé , ce volcan qui est arrivé du volcan qui est arrivé du volcan , ni au volcan qui est arrivé , au volcan , au volcan , ce volcan , le volcan , à l ' est arrivé du volcan des volcan des volcan des volcan des volcan des volcan qui est arrivé du volcan par les volcan qui est arrivé du volcan qui est arrivé , ni au volcan qui est arrivé , ni des volcan qui est arrivé , ni au volcan qui est arrivé , ni au volcan , ni au volcan\n",
      "--------------------------------------------------------------------------------\n"
     ]
    },
    {
     "name": "stderr",
     "output_type": "stream",
     "text": [
      "processing epoch 08: 100%|██████████| 3823/3823 [07:58<00:00,  7.99it/s, loss=2.579]\n",
      "stty: 'standard input': Inappropriate ioctl for device\n"
     ]
    },
    {
     "name": "stdout",
     "output_type": "stream",
     "text": [
      "--------------------------------------------------------------------------------\n",
      "    SOURCE: I sealed the letter, and, without telling him what it contained, asked your father to have it forwarded to its address on reaching Paris.\n",
      "    TARGET: \"Je cachetai la lettre, et sans lui dire ce qu'elle renfermait, je priai votre père de la faire remettre à son adresse en arrivant à Paris.\n",
      " PREDICTED: Je la lettre , et je le dis sans ce qu ' il contenait , de ce que vous auriez besoin de l ' adresse de Paris .\n",
      "--------------------------------------------------------------------------------\n",
      "    SOURCE: Pierre had a pang of remorseand blamed himself for letting his ill-humour punish the rest.\n",
      "    TARGET: Pierre eut un remords et se reprocha de faire souffrir les autres de samauvaise humeur:\n",
      " PREDICTED: Pierre avait une goutte de faiblesse lui - même pour quitter sa bonne humeur le reste du reste .\n",
      "--------------------------------------------------------------------------------\n"
     ]
    },
    {
     "name": "stderr",
     "output_type": "stream",
     "text": [
      "processing epoch 09: 100%|██████████| 3823/3823 [07:59<00:00,  7.97it/s, loss=2.222]\n",
      "stty: 'standard input': Inappropriate ioctl for device\n"
     ]
    },
    {
     "name": "stdout",
     "output_type": "stream",
     "text": [
      "--------------------------------------------------------------------------------\n",
      "    SOURCE: Their heads intercepted the feeble light in the cell, without the wretched being whom they thus deprived of it seeming to pay any attention to them.\n",
      "    TARGET: Leur tête interceptait le faible jour du cachot, sans que la misérable qu’elles en privaient ainsi parût faire attention à elles.\n",
      " PREDICTED: Leur tête les faible dans la cellule , sans qu ’ on , sans qu ’ on les reconnaissait , semblait avoir l ’ attention à eux .\n",
      "--------------------------------------------------------------------------------\n",
      "    SOURCE: The murderer, cowardly and humble, thrust the young woman towards the canvas, hiding behind her, so as to escape the gaze of the drowned man.\n",
      "    TARGET: Le meurtrier, lâche et humble, poussait la jeune femme vers la toile, se cachant derrière elle, pour se dérober aux regards du noyé.\n",
      " PREDICTED: Le meurtrier , lâche et humble , repoussa la petite face vers la toile , se cachant derriere elle , pour fuir les yeux du noyé .\n",
      "--------------------------------------------------------------------------------\n"
     ]
    },
    {
     "name": "stderr",
     "output_type": "stream",
     "text": [
      "processing epoch 10: 100%|██████████| 3823/3823 [08:08<00:00,  7.83it/s, loss=2.484]\n",
      "stty: 'standard input': Inappropriate ioctl for device\n"
     ]
    },
    {
     "name": "stdout",
     "output_type": "stream",
     "text": [
      "--------------------------------------------------------------------------------\n",
      "    SOURCE: But more was to come, when, with a rush through clouds of bone dust, he laid his hand upon a bare skull, and cried with a voice trembling with excitement:\n",
      "    TARGET: Mais ce fut un bien autre émerveillement, quand, courant a travers cette poussière volcanique, il saisit un crâne dénudé, et s'écria d'une voix frémissante:\n",
      " PREDICTED: Mais , d ' autre , quand , un flot passait dans les bras , il mit sa main sur un crâne , et s ' écria d ' une voix tremblante :\n",
      "--------------------------------------------------------------------------------\n",
      "    SOURCE: None but some weighty motive could have induced so quiet a man to forfeit his sleep.\n",
      "    TARGET: Hans, cet homme paisible, un motif grave avait pu seul l'arracher à son repos.\n",
      " PREDICTED: Rien de poignant ne put trouver si calme si calme à perdre son beau sommeil .\n",
      "--------------------------------------------------------------------------------\n"
     ]
    },
    {
     "name": "stderr",
     "output_type": "stream",
     "text": [
      "processing epoch 11: 100%|██████████| 3823/3823 [08:17<00:00,  7.68it/s, loss=2.169]\n",
      "stty: 'standard input': Inappropriate ioctl for device\n"
     ]
    },
    {
     "name": "stdout",
     "output_type": "stream",
     "text": [
      "--------------------------------------------------------------------------------\n",
      "    SOURCE: \"Yes and no, Professor Aronnax,\" answered Captain Nemo, who seemed to know \"his Red Sea\" by heart.\n",
      "    TARGET: -- Oui et non, monsieur Aronnax, me répondit le capitaine Nemo, qui me parut posséder à fond « sa mer Rouge ».\n",
      " PREDICTED: -- Oui , monsieur Aronnax , répondit le capitaine Nemo , qui semblait connaître sa mer Rouge .\n",
      "--------------------------------------------------------------------------------\n",
      "    SOURCE: The poor accused had the appearance of looking at them, but her troubled eye no longer saw.\n",
      "    TARGET: La pauvre accusée avait l’air de les regarder, mais son œil trouble ne voyait plus.\n",
      " PREDICTED: La pauvre accusé avait paru l ’ apparition de les suivre , mais son œil ne voyait plus .\n",
      "--------------------------------------------------------------------------------\n"
     ]
    },
    {
     "name": "stderr",
     "output_type": "stream",
     "text": [
      "processing epoch 12: 100%|██████████| 3823/3823 [08:08<00:00,  7.83it/s, loss=2.448]\n",
      "stty: 'standard input': Inappropriate ioctl for device\n"
     ]
    },
    {
     "name": "stdout",
     "output_type": "stream",
     "text": [
      "--------------------------------------------------------------------------------\n",
      "    SOURCE: \"He took you for Buckingham!\" cried d’Artagnan.\n",
      "    TARGET: -- Il vous avait pris pour Buckingham! s'écria d'Artagnan.\n",
      " PREDICTED: -- Il vous a pris pour Buckingham ! s ' écria d ' Artagnan .\n",
      "--------------------------------------------------------------------------------\n",
      "    SOURCE: When shall we begin?\"\n",
      "    TARGET: Quand commençons-nous ? »\n",
      " PREDICTED: Quand commencerons - nous ?\n",
      "--------------------------------------------------------------------------------\n"
     ]
    },
    {
     "name": "stderr",
     "output_type": "stream",
     "text": [
      "processing epoch 13: 100%|██████████| 3823/3823 [08:10<00:00,  7.80it/s, loss=1.986]\n",
      "stty: 'standard input': Inappropriate ioctl for device\n"
     ]
    },
    {
     "name": "stdout",
     "output_type": "stream",
     "text": [
      "--------------------------------------------------------------------------------\n",
      "    SOURCE: \"Good!\n",
      "    TARGET: – Noël !\n",
      " PREDICTED: — Bien .\n",
      "--------------------------------------------------------------------------------\n",
      "    SOURCE: Upon this information, they instantly passed through the hall once more, and ran across the lawn after their father, who was deliberately pursuing his way towards a small wood on one side of the paddock.\n",
      "    TARGET: Sur cette indication, elles s’élancerent hors de la maison et traverserent la pelouse en courant pour rejoindre leur pere qui d’un pas délibéré se dirigeait vers un petit bois qui bordait la prairie.\n",
      " PREDICTED: De cette façon , ils passaient tout de suite dans la salle , et courut à l ’ enveloppe , après son père , qui se à petit coin de la couche d ’ un petit voyage .\n",
      "--------------------------------------------------------------------------------\n"
     ]
    },
    {
     "name": "stderr",
     "output_type": "stream",
     "text": [
      "processing epoch 14: 100%|██████████| 3823/3823 [08:11<00:00,  7.77it/s, loss=2.478]\n",
      "stty: 'standard input': Inappropriate ioctl for device\n"
     ]
    },
    {
     "name": "stdout",
     "output_type": "stream",
     "text": [
      "--------------------------------------------------------------------------------\n",
      "    SOURCE: It arose from his bowels and was beating in his head like a hammer, a sudden mania of murder, a need to taste blood.\n",
      "    TARGET: Cela montait de ses entrailles, battait dans sa tete a coups de marteau, une brusque folie du meurtre, un besoin de gouter au sang.\n",
      " PREDICTED: Il se leva de ses entrailles et se de son marteau en jetant une manie de crime , un besoin de sang - froid .\n",
      "--------------------------------------------------------------------------------\n",
      "    SOURCE: Even this poor Mathilde, who is now weeping, or rather who can no longer weep,' he said, looking at her red eyes ... and he took her in his arms: the sight of genuine grief made him forget his syllogism. 'She has been weeping all night, perhaps,' he said to himself: 'but one day how ashamed she will be when she remembers!\n",
      "    TARGET: Même avec cette pauvre Mathilde, qui pleure maintenant, ou plutôt qui ne peut plus pleurer, dit-il en regardant ses yeux rouges… et il la serra dans ses bras : l’aspect d’une douleur vraie lui fit oublier son syllogisme… Elle a pleuré toute la nuit peut-être, se dit-il ; mais un jour, quelle honte ne lui fera pas ce souvenir !\n",
      " PREDICTED: Même Mathilde , qui en pleurant , dit - il , ne peut - être plus de quoi pleurer , lui dit - il en regardant les bras rouges et elle ne lui :\n",
      "--------------------------------------------------------------------------------\n"
     ]
    },
    {
     "name": "stderr",
     "output_type": "stream",
     "text": [
      "processing epoch 15: 100%|██████████| 3823/3823 [08:15<00:00,  7.71it/s, loss=1.974]\n",
      "stty: 'standard input': Inappropriate ioctl for device\n"
     ]
    },
    {
     "name": "stdout",
     "output_type": "stream",
     "text": [
      "--------------------------------------------------------------------------------\n",
      "    SOURCE: En ce moment, les filles de l’hôtesse se mirent à fondre en larmes ; elles tremblaient pour Fabrice ; et comme elles comprenaient à peine le français, elles s’approchèrent de son lit pour lui faire des questions.\n",
      "    TARGET: At this point the landlady's daughters began to dissolve in tears; they trembled for Fabrizio; and, as they barely understood French, they came to his bedside to question him.\n",
      " PREDICTED: As he was leaving the floor , the whole of the inn with on his knees ; they were at the French position , so he himself .\n",
      "--------------------------------------------------------------------------------\n",
      "    SOURCE: 'If I do not kill my wife, if I drive her from the house with ignominy, she has her aunt at Besancon, who will hand over the whole of her fortune to her on the quiet.\n",
      "    TARGET: Si je ne tue pas ma femme, et que je la chasse avec ignominie, elle a sa tante à Besançon, qui lui donnera de la main à la main toute sa fortune.\n",
      " PREDICTED: Si je ne vous tue pas ma femme , si je la pousse par la maison avec ignominie , elle a Sa tante qui lui la main de toute sa fortune .\n",
      "--------------------------------------------------------------------------------\n"
     ]
    },
    {
     "name": "stderr",
     "output_type": "stream",
     "text": [
      "processing epoch 16: 100%|██████████| 3823/3823 [08:21<00:00,  7.63it/s, loss=2.057]\n",
      "stty: 'standard input': Inappropriate ioctl for device\n"
     ]
    },
    {
     "name": "stdout",
     "output_type": "stream",
     "text": [
      "--------------------------------------------------------------------------------\n",
      "    SOURCE: But this sudden flood was not of long duration.\n",
      "    TARGET: Cependant, cette inondation soudaine ne dura pas.\n",
      " PREDICTED: Mais , ce flot ne se trouvait pas de longues journées .\n",
      "--------------------------------------------------------------------------------\n",
      "    SOURCE: Besides, with this creed, I can so clearly distinguish between the criminal and his crime; I can so sincerely forgive the first while I abhor the last: with this creed revenge never worries my heart, degradation never too deeply disgusts me, injustice never crushes me too low: I live in calm, looking to the end.\"\n",
      "    TARGET: Personne ne me l'a enseignée et j'en parle rarement, mais elle est ma joie et je m'y attache; je ne fais pas de l'espérance le privilège de quelques-uns; je l'étends sur tous; je considère l'éternité comme un repos, comme une demeure lumineuse, non pas comme un abîme et un lieu de terreur; avec cette foi, je ne puis confondre le criminel et son crime; je pardonne sincèrement au premier, et j'abhorre le second; le désir de la vengeance ne peut accabler mon coeur; le vice ne me dégoûte pas assez pour m'éloigner du coupable, et l'injustice ne me fait pas perdre tout courage; je vis calme, les yeux tournés vers la fin de mon existence.»\n",
      " PREDICTED: D ’ ailleurs , je m ’ enfuis en courant le château ; je puis bien qu ’ entre le crime et le crime ; je ne puis me parle plus , pour le souffle d ’ enfant , de moi , je ne pus jamais de moi , je ne pus trop vive : je ne vive et je ne puis le métier jamais de moi , je ne puis le métier jamais de cette fois le métier jamais de fois le métier , je ne puis le métier , je ne puis le métier si vive douceur si calme si vive honte que je ne puis le métier si vive fureur trop vive souffle trop vive souffle que je ne puis le mes fois le mes fois le cœur , je ne puis le métier , je ne puis le si vive honte que\n",
      "--------------------------------------------------------------------------------\n"
     ]
    },
    {
     "name": "stderr",
     "output_type": "stream",
     "text": [
      "processing epoch 17: 100%|██████████| 3823/3823 [08:15<00:00,  7.72it/s, loss=1.876]\n",
      "stty: 'standard input': Inappropriate ioctl for device\n"
     ]
    },
    {
     "name": "stdout",
     "output_type": "stream",
     "text": [
      "--------------------------------------------------------------------------------\n",
      "    SOURCE: \"Good!\n",
      "    TARGET: – Noël !\n",
      " PREDICTED: — Bien !\n",
      "--------------------------------------------------------------------------------\n",
      "    SOURCE: But these words were only spoken within me.\n",
      "    TARGET: Ces mots, je les criais en moi-même.\n",
      " PREDICTED: Mais ces paroles ne me furent qu ' à l ' instant .\n",
      "--------------------------------------------------------------------------------\n"
     ]
    },
    {
     "name": "stderr",
     "output_type": "stream",
     "text": [
      "processing epoch 18: 100%|██████████| 3823/3823 [08:19<00:00,  7.66it/s, loss=1.905]\n",
      "stty: 'standard input': Inappropriate ioctl for device\n"
     ]
    },
    {
     "name": "stdout",
     "output_type": "stream",
     "text": [
      "--------------------------------------------------------------------------------\n",
      "    SOURCE: It was a desert in its vast nakedness.\n",
      "    TARGET: C'était le désert dans son immense nudité.\n",
      " PREDICTED: C ' était un désert dans sa vaste tension des profondeurs .\n",
      "--------------------------------------------------------------------------------\n",
      "    SOURCE: Come in, gentlemen.\"\n",
      "    TARGET: Entrez, messieurs.»\n",
      " PREDICTED: Entrez , messieurs .»\n",
      "--------------------------------------------------------------------------------\n"
     ]
    },
    {
     "name": "stderr",
     "output_type": "stream",
     "text": [
      "processing epoch 19: 100%|██████████| 3823/3823 [08:16<00:00,  7.71it/s, loss=1.961]\n",
      "stty: 'standard input': Inappropriate ioctl for device\n"
     ]
    },
    {
     "name": "stdout",
     "output_type": "stream",
     "text": [
      "--------------------------------------------------------------------------------\n",
      "    SOURCE: 'How so?' says his mother. 'Have you asked her the question, then?'\n",
      "    TARGET: --Comment, dit sa mère, lui as-tu donc posé la question?\n",
      " PREDICTED: -- Comment cela ? dit sa mère . – As - tu donc la question ?\n",
      "--------------------------------------------------------------------------------\n",
      "    SOURCE: He made no complaint, but mechanically took his tin from time to time and swallowed a gulp of gin, shaking so much that he thought he needed it to carry him to the end.\n",
      "    TARGET: Il ne se plaignait pas; mais, d'un geste machinal, il prenait sa gourde de temps a autre, il avalait une gorgée de genievre, si frissonnant, qu'il croyait avoir besoin de ça pour aller jusqu'au bout.\n",
      " PREDICTED: Il se faisait mal , mais machinalement la boîte de temps en temps et s ' arracher une gorgée de genievre , la disant tant qu ' il fallait lui cacher .\n",
      "--------------------------------------------------------------------------------\n"
     ]
    },
    {
     "name": "stderr",
     "output_type": "stream",
     "text": [
      "processing epoch 20: 100%|██████████| 3823/3823 [08:20<00:00,  7.64it/s, loss=2.010]\n",
      "stty: 'standard input': Inappropriate ioctl for device\n"
     ]
    },
    {
     "name": "stdout",
     "output_type": "stream",
     "text": [
      "--------------------------------------------------------------------------------\n",
      "    SOURCE: There were a great many people to luncheon.\n",
      "    TARGET: Il y eut beaucoup de monde au déjeuner.\n",
      " PREDICTED: Il y avait beaucoup de très personnes .\n",
      "--------------------------------------------------------------------------------\n",
      "    SOURCE: At last he realised that she had simply got a stone in her shoe.\n",
      "    TARGET: Il comprit enfin qu’elle avait tout simplement un caillou dans le sabot.\n",
      " PREDICTED: Il comprit enfin qu ’ elle avait simplement la pierre dans son soulier .\n",
      "--------------------------------------------------------------------------------\n"
     ]
    },
    {
     "name": "stderr",
     "output_type": "stream",
     "text": [
      "processing epoch 21: 100%|██████████| 3823/3823 [08:12<00:00,  7.76it/s, loss=2.140]\n",
      "stty: 'standard input': Inappropriate ioctl for device\n"
     ]
    },
    {
     "name": "stdout",
     "output_type": "stream",
     "text": [
      "--------------------------------------------------------------------------------\n",
      "    SOURCE: 'Are you Tom Owen the bruiser?' says one o' them. 'At your service, sir,' says I.\n",
      "    TARGET: «C'est vous qui êtes Tom Owen, le boxeur, que dit l'un d'eux» «À votre service, Monsieur, que je réponds.»\n",
      " PREDICTED: -- Êtes - vous Tom le boxeur ? dit un anglais ; en vous le service , monsieur , dis - je .\n",
      "--------------------------------------------------------------------------------\n",
      "    SOURCE: \"I do not say no,\" replied Pencroft, who had always the casting vote in maritime questions; \"I do not say no, although it is not exactly the same thing to make a long as a short voyage!\n",
      "    TARGET: -- Je ne dis pas non, répondit Pencroff, qui avait toujours voix prépondérante dans les questions maritimes, je ne dis pas non, quoique ce ne soit pas tout à fait la même chose d'aller près et d'aller loin!\n",
      " PREDICTED: -- Je ne dis pas non , répondit Pencroff , qui avait toujours le bruit des en ruine , je ne dis pas qu ' elle en suis bien aussi bien loin !\n",
      "--------------------------------------------------------------------------------\n"
     ]
    },
    {
     "name": "stderr",
     "output_type": "stream",
     "text": [
      "processing epoch 22: 100%|██████████| 3823/3823 [08:18<00:00,  7.67it/s, loss=1.764]\n",
      "stty: 'standard input': Inappropriate ioctl for device\n"
     ]
    },
    {
     "name": "stdout",
     "output_type": "stream",
     "text": [
      "--------------------------------------------------------------------------------\n",
      "    SOURCE: Fix had begun by winning several guineas, which he seemed likely to lose; but he showed himself a not less eager whist-player than Mr. Fogg.\n",
      "    TARGET: Fix avait commencé par gagner quelques guinées, qu'il était en train de reperdre, mais il ne se montrait pas moins passionné que Mr. Fogg.\n",
      " PREDICTED: Fix avait commencé par son frère frère toujours constater qu ' il n ' en pouvait pas perdre ; mais il ne s ' était pas trompé au whist .\n",
      "--------------------------------------------------------------------------------\n",
      "    SOURCE: Let us look at the figures.\"\n",
      "    TARGET: Voyons les chiffres.\n",
      " PREDICTED: les chiffres .\n",
      "--------------------------------------------------------------------------------\n"
     ]
    },
    {
     "name": "stderr",
     "output_type": "stream",
     "text": [
      "processing epoch 23: 100%|██████████| 3823/3823 [08:14<00:00,  7.73it/s, loss=1.857]\n",
      "stty: 'standard input': Inappropriate ioctl for device\n"
     ]
    },
    {
     "name": "stdout",
     "output_type": "stream",
     "text": [
      "--------------------------------------------------------------------------------\n",
      "    SOURCE: And she began to pace up and down with long strides before the grating of her window, her hair dishevelled, her eyes flashing, with her shoulder striking against the wall, with the wild air of a female wolf in a cage, who has long been famished, and who feels the hour for her repast drawing near.\n",
      "    TARGET: Et elle se mit à se promener à grands pas devant les barreaux de sa lucarne, échevelée, l’œil flamboyant, heurtant le mur de son épaule, avec l’air fauve d’une louve en cage qui a faim depuis longtemps et qui sent approcher l’heure du repas.\n",
      " PREDICTED: Et elle se mit à marcher , à grands pas sous le rivage , ses cheveux en garçon , ses yeux brillaient ; les yeux brillaient d ’ une bande .\n",
      "--------------------------------------------------------------------------------\n",
      "    SOURCE: Then, when he had watched it gradually grow calmer by an effort of supreme will, he went downstairs.\n",
      "    TARGET: Puis, quand il l'eut regardé s'apaiser peu a peu, par un effort de volonté supreme, il descendit.\n",
      " PREDICTED: Puis , quand il l ' avait reprenant peu à peu qu ' il y eut a peu de méthode , il descendit d ' un effort .\n",
      "--------------------------------------------------------------------------------\n"
     ]
    },
    {
     "name": "stderr",
     "output_type": "stream",
     "text": [
      "processing epoch 24: 100%|██████████| 3823/3823 [08:13<00:00,  7.75it/s, loss=1.878]\n",
      "stty: 'standard input': Inappropriate ioctl for device\n"
     ]
    },
    {
     "name": "stdout",
     "output_type": "stream",
     "text": [
      "--------------------------------------------------------------------------------\n",
      "    SOURCE: En homme de cœur il sauta à bas de la voiture ; il avait dans la main gauche un grand pistolet fort rouillé, et tenait de la droite une épée encore dans son fourreau, dont il se servait lorsque les besoins de la troupe forçaient de lui confier quelque rôle de marquis.\n",
      "    TARGET: Like a man of valour, he jumped down from the carriage; he had in his left hand a large and very rusty pistol, and held in his right a sheathed sword, which he used when the limitations of the company obliged them to cast him for the part of some Marchese.\n",
      " PREDICTED: in heart he all aux yeux of the carriage ; he had sent a great deal more , and far his whole away , too himself were .\n",
      "--------------------------------------------------------------------------------\n",
      "    SOURCE: Chapter 1\n",
      "    TARGET: CHAPITRE I\n",
      " PREDICTED: I\n",
      "--------------------------------------------------------------------------------\n"
     ]
    },
    {
     "name": "stderr",
     "output_type": "stream",
     "text": [
      "processing epoch 25: 100%|██████████| 3823/3823 [08:15<00:00,  7.72it/s, loss=1.726]\n",
      "stty: 'standard input': Inappropriate ioctl for device\n"
     ]
    },
    {
     "name": "stdout",
     "output_type": "stream",
     "text": [
      "--------------------------------------------------------------------------------\n",
      "    SOURCE: Mais les frais d’acte et autres, montant à plus de 12 000 francs, semblèrent une dépense fort ridicule au marquis Crescenzi, être éminemment logique.\n",
      "    TARGET: But the charges for the documents and other matters, which amounted to more than 12,000 francs, seemed a most ridiculous waste of money to the Marchese, a man of eminently logical mind.\n",
      " PREDICTED: But the police of the and offered to hand , with a month of the time , of having the Marchese Crescenzi , and made a good Prince .\n",
      "--------------------------------------------------------------------------------\n",
      "    SOURCE: Il n’était resté enfant que sur un point : ce qu’il avait vu était-ce une bataille, et en second lieu, cette bataille était-elle Waterloo ?\n",
      "    TARGET: He had remained a child upon one point only: what he had seen, was it a battle; and, if so, was that battle Waterloo?\n",
      " PREDICTED: He had been left by a boy ; what he had seen that he had been a battle , and nothing else .\n",
      "--------------------------------------------------------------------------------\n"
     ]
    },
    {
     "name": "stderr",
     "output_type": "stream",
     "text": [
      "processing epoch 26: 100%|██████████| 3823/3823 [08:16<00:00,  7.69it/s, loss=1.743]\n",
      "stty: 'standard input': Inappropriate ioctl for device\n"
     ]
    },
    {
     "name": "stdout",
     "output_type": "stream",
     "text": [
      "--------------------------------------------------------------------------------\n",
      "    SOURCE: She has punctually executed my orders, and I now enjoy the inexpressible satisfaction of seeing you, hearing you, and speaking to you.\n",
      "    TARGET: Elle a très bien exécuté ma commission; j'ai goûté le plaisir inexprimable de vous revoir, de vous entendre, de vous parler.\n",
      " PREDICTED: Elle m ' a été levée mes ordres , et je compte vous en apercevoir , vous avez parlé , vous en parlant de vous parler .\n",
      "--------------------------------------------------------------------------------\n",
      "    SOURCE: \"Bah!\" said Athos, \"God is great, as say the followers of Mohammed, and the future is in his hands.\"\n",
      "    TARGET: -- Bah! dit Athos, Dieu est grand, comme disent les sectateurs de Mahomet, et l'avenir est dans ses mains.»\n",
      " PREDICTED: -- Ah ! dit Athos , Dieu est grand , comme à dire que les de Grimpen et l ' avenir est entre ses mains .»\n",
      "--------------------------------------------------------------------------------\n"
     ]
    },
    {
     "name": "stderr",
     "output_type": "stream",
     "text": [
      "processing epoch 27: 100%|██████████| 3823/3823 [08:17<00:00,  7.69it/s, loss=1.843]\n",
      "stty: 'standard input': Inappropriate ioctl for device\n"
     ]
    },
    {
     "name": "stdout",
     "output_type": "stream",
     "text": [
      "--------------------------------------------------------------------------------\n",
      "    SOURCE: She could speak of nothing but the strange sacrifices which she was anxious to make to save him.\n",
      "    TARGET: Elle ne parlait que des sacrifices étranges qu’elle voulait faire pour le sauver.\n",
      " PREDICTED: Elle ne pouvait parler de rien que des sacrifices , qu ’ elle eut hâte de faire le sauver .\n",
      "--------------------------------------------------------------------------------\n",
      "    SOURCE: That is what we call a monologue in tragedy.−−~Pasque−Dieu~!\n",
      "    TARGET: Il faut que je parle tout seul.\n",
      " PREDICTED: Voilà ce que nous appelle dans les membres je voudrais !\n",
      "--------------------------------------------------------------------------------\n"
     ]
    },
    {
     "name": "stderr",
     "output_type": "stream",
     "text": [
      "processing epoch 28: 100%|██████████| 3823/3823 [08:14<00:00,  7.73it/s, loss=1.852]\n",
      "stty: 'standard input': Inappropriate ioctl for device\n"
     ]
    },
    {
     "name": "stdout",
     "output_type": "stream",
     "text": [
      "--------------------------------------------------------------------------------\n",
      "    SOURCE: Mon premier soin fut d’examiner la route et la, je vous l’ai du reste déja expliqué, je relevai distinctement les traces laissées par les roues d’un fiacre, traces qui ne pouvaient dater que de la nuit.\n",
      "    TARGET: I naturally began by examining the roadway, and there, as I have already explained to you, I saw clearly the marks of a cab, which, I ascertained by inquiry, must have been there during the night.\n",
      " PREDICTED: My first troublé as to come round the road ; and the to you have already of Madame , I am with you that is just outside .\n",
      "--------------------------------------------------------------------------------\n",
      "    SOURCE: Porthos!\n",
      "    TARGET: Porthos!\n",
      " PREDICTED: Porthos !\n",
      "--------------------------------------------------------------------------------\n"
     ]
    },
    {
     "name": "stderr",
     "output_type": "stream",
     "text": [
      "processing epoch 29: 100%|██████████| 3823/3823 [08:15<00:00,  7.71it/s, loss=1.672]\n",
      "stty: 'standard input': Inappropriate ioctl for device\n"
     ]
    },
    {
     "name": "stdout",
     "output_type": "stream",
     "text": [
      "--------------------------------------------------------------------------------\n",
      "    SOURCE: His legs began to tremble, the fresh air which came from the distant country choked him, and he seemed intoxicated when he went heavily back to the stable.\n",
      "    TARGET: Ses pattes se mirent a trembler, le grand air qui venait des campagnes lointaines l'étouffait; et il était comme ivre, quand il rentra pesamment a l'écurie.\n",
      " PREDICTED: Ses jambes se piqua , et l ' air qui venait des flancs où il semblait le pays , et il semblait rester lourd quand il continuait à l ' écurie .\n",
      "--------------------------------------------------------------------------------\n",
      "    SOURCE: \"Master,\" then said Neb, \"my idea is, that we may search as long as we like for this gentleman whom you are talking about, but that we shall not discover him till he pleases.\"\n",
      "    TARGET: -- Mon maître, dit alors Nab, j'ai l'idée que nous pouvons chercher tant que nous voudrons le monsieur dont il s'agit, mais que nous ne le découvrirons que quand il lui plaira.\n",
      " PREDICTED: -- Monsieur , dit alors Nab , l ' idée est , que nous ferons bientôt de long comme ce gentilhomme que vous dites , mais vous ne tenez pas à parler .\n",
      "--------------------------------------------------------------------------------\n"
     ]
    },
    {
     "name": "stderr",
     "output_type": "stream",
     "text": [
      "processing epoch 30: 100%|██████████| 3823/3823 [08:13<00:00,  7.75it/s, loss=1.736]\n",
      "stty: 'standard input': Inappropriate ioctl for device\n"
     ]
    },
    {
     "name": "stdout",
     "output_type": "stream",
     "text": [
      "--------------------------------------------------------------------------------\n",
      "    SOURCE: He took him aside and talked very earnestly with him in French for a quarter of an hour, gesticulating with his hands, and explaining something, while the Major nodded his old grizzled head from time to time.\n",
      "    TARGET: Il le prit à part, causa en français avec lui, d'un air très sérieux, pendant un quart d'heure, gesticulant des mains, donnant des explications, pendant que le major hochait de temps à autre sa vieille tête grisonnante.\n",
      " PREDICTED: Il le prit et causaient d ' un air de ses affaires , avec un quart d ' heure , prier les mains d ' une fois , il indifférent à la tête de la tête .\n",
      "--------------------------------------------------------------------------------\n",
      "    SOURCE: The little wall, breast high, which surrounded the Place, would not have sufficed to keep it free had it not been lined with a thick hedge of sergeants and hackbuteers, culverines in hand.\n",
      "    TARGET: La petite muraille à hauteur d’appui qui entourait le Parvis n’eût pas suffi à le maintenir libre, si elle n’eût été doublée d’une haie épaisse de sergents des onze-vingts et de hacquebutiers, la coulevrine au poing.\n",
      " PREDICTED: Le petit mur , la poitrine haute , qui semble la place , ne eût pas le laisser libre , n ’ avait pas dû l ’ écarter d ’ une grande fente , de et de .\n",
      "--------------------------------------------------------------------------------\n"
     ]
    },
    {
     "name": "stderr",
     "output_type": "stream",
     "text": [
      "processing epoch 31: 100%|██████████| 3823/3823 [08:15<00:00,  7.72it/s, loss=1.798]\n",
      "stty: 'standard input': Inappropriate ioctl for device\n"
     ]
    },
    {
     "name": "stdout",
     "output_type": "stream",
     "text": [
      "--------------------------------------------------------------------------------\n",
      "    SOURCE: My word! I would strangle Catherine if I knew that she had done that.\"\n",
      "    TARGET: Parole d'honneur, tiens! j'étranglerais Catherine, si j'apprenais qu'elle ait fait la betise.\n",
      " PREDICTED: Ma parole ! je voulais Catherine , si je savais qu ' elle avait fait cela .\n",
      "--------------------------------------------------------------------------------\n",
      "    SOURCE: Towards morning it rained; the whole of the following day was wet.\n",
      "    TARGET: Il plut vers le matin, et tout le jour suivant fut humide.\n",
      " PREDICTED: Vers le matin , il pleuvait , et tout le jour fut stupéfait .\n",
      "--------------------------------------------------------------------------------\n"
     ]
    },
    {
     "name": "stderr",
     "output_type": "stream",
     "text": [
      "processing epoch 32: 100%|██████████| 3823/3823 [08:15<00:00,  7.72it/s, loss=1.753]\n",
      "stty: 'standard input': Inappropriate ioctl for device\n"
     ]
    },
    {
     "name": "stdout",
     "output_type": "stream",
     "text": [
      "--------------------------------------------------------------------------------\n",
      "    SOURCE: To get money she began selling her old gloves, her old hats, the old odds and ends, and she bargained rapaciously, her peasant blood standing her in good stead.\n",
      "    TARGET: Pour se faire de l’argent, elle se mit à vendre ses vieux gants, ses vieux chapeaux, la vieille ferraille; et elle marchandait avec rapacité, -- son sang de paysanne la poussant au gain.\n",
      " PREDICTED: Elle en les vieux gants , son vieux chapeaux à Cet vieux chapeaux et s ’ reconnut un vieux roi , qui lui son sang , le sang de barbe .\n",
      "--------------------------------------------------------------------------------\n",
      "    SOURCE: \"Monsieur d’Artagnan,\" said the commissary, addressing Athos, \"declare all that passed yesterday between you and Monsieur.\"\n",
      "    TARGET: «Monsieur d'Artagnan, dit le commissaire en s'adressant à Athos, déclarez ce qui s'est passé entre vous et monsieur.\n",
      " PREDICTED: -- M . d ' Artagnan , dit le commissaire en s ' adressant à Athos , en vérité que vous avez vu hier et M .\n",
      "--------------------------------------------------------------------------------\n"
     ]
    },
    {
     "name": "stderr",
     "output_type": "stream",
     "text": [
      "processing epoch 33: 100%|██████████| 3823/3823 [08:14<00:00,  7.73it/s, loss=1.681]\n",
      "stty: 'standard input': Inappropriate ioctl for device\n"
     ]
    },
    {
     "name": "stdout",
     "output_type": "stream",
     "text": [
      "--------------------------------------------------------------------------------\n",
      "    SOURCE: \"Well, Ned, the fates were against us yesterday.\" \"Yes! That damned captain had to call a halt just as we were going to escape from his boat.\"\n",
      "    TARGET: -- Oui ! il a fallu que ce damné capitaine s'arrêtât précisément à l'heure ou nous allions fuir son bateau.\n",
      " PREDICTED: -- Eh bien , Ned , ce fut contre nous d ' hier ! le damné capitaine capitaine nous fit arriver comme nous avions pu fuir à son bac .\n",
      "--------------------------------------------------------------------------------\n",
      "    SOURCE: \"To be sure I should.\"\n",
      "    TARGET: --Mais oui.\n",
      " PREDICTED: -- Certainement .»\n",
      "--------------------------------------------------------------------------------\n"
     ]
    },
    {
     "name": "stderr",
     "output_type": "stream",
     "text": [
      "processing epoch 34: 100%|██████████| 3823/3823 [08:14<00:00,  7.73it/s, loss=1.759]\n",
      "stty: 'standard input': Inappropriate ioctl for device\n"
     ]
    },
    {
     "name": "stdout",
     "output_type": "stream",
     "text": [
      "--------------------------------------------------------------------------------\n",
      "    SOURCE: And now I come to a bit of my story that clean takes my breath away as I think of it, and makes me wish that I had never taken the job of telling it in hand.\n",
      "    TARGET: J'arrive maintenant à un point de mon histoire, dont le récit me coupe tout net la respiration, et me fait regretter d'avoir entrepris cette tâche de narrateur.\n",
      " PREDICTED: Et maintenant , je commençais a un bout de ma histoire pour mon souffle , et je me qu ' il n ' en avais jamais fait si j ' avais eu la peine de me dire .\n",
      "--------------------------------------------------------------------------------\n",
      "    SOURCE: My couch had no thorns in it that night; my solitary room no fears.\n",
      "    TARGET: Cette nuit-là, ma couche n'eut point d'épines et ma chambre n'éveilla aucune frayeur en moi.\n",
      " PREDICTED: Je n ’ avais pas d ’ abord les aperçus qui dans la nuit . Mes craintes .\n",
      "--------------------------------------------------------------------------------\n"
     ]
    },
    {
     "name": "stderr",
     "output_type": "stream",
     "text": [
      "processing epoch 35: 100%|██████████| 3823/3823 [08:13<00:00,  7.74it/s, loss=1.652]\n",
      "stty: 'standard input': Inappropriate ioctl for device\n"
     ]
    },
    {
     "name": "stdout",
     "output_type": "stream",
     "text": [
      "--------------------------------------------------------------------------------\n",
      "    SOURCE: \"Oh, you’ll know it someday, Aramis; but at present I must imitate the discretion of ’the doctor’s niece.’\"\n",
      "    TARGET: -- Vous le saurez un jour, Aramis; mais, pour le moment, j'imiterai la retenue de la nièce du docteur.»\n",
      " PREDICTED: -- Oh ! vous le savez , Aramis , un jour , mais je dois en vous confier la discrétion du médecin de la figure .»\n",
      "--------------------------------------------------------------------------------\n",
      "    SOURCE: Little by little he made himself indispensable in the shop; it was him alone who brought a little gaiety into this black hole.\n",
      "    TARGET: Peu à peu, il se rendit indispensable dans la boutique; lui seul mettait un peu de gaieté au fond de ce trou noir.\n",
      " PREDICTED: Peu à peu il fut indispensable à la boutique ; c ’ était lui seul qui apportait une petite gaieté noire dans cette trou noire .\n",
      "--------------------------------------------------------------------------------\n"
     ]
    },
    {
     "name": "stderr",
     "output_type": "stream",
     "text": [
      "processing epoch 36: 100%|██████████| 3823/3823 [08:16<00:00,  7.70it/s, loss=1.549]\n",
      "stty: 'standard input': Inappropriate ioctl for device\n"
     ]
    },
    {
     "name": "stdout",
     "output_type": "stream",
     "text": [
      "--------------------------------------------------------------------------------\n",
      "    SOURCE: \"We've got to hold on tight,\" Ned said, \"and screw the nuts down again!\n",
      "    TARGET: « Il faut tenir bon, dit Ned, et revisser les écrous !\n",
      " PREDICTED: « Nous vous sommes arrivés ! dit Ned , et les écrous qui reprend !\n",
      "--------------------------------------------------------------------------------\n",
      "    SOURCE: Presently I saw her glancing across at the person who was in the opposite box; on looking, I saw a woman with whom I was quite familiar.\n",
      "    TARGET: Je la vis ainsi échanger des regards avec la personne occupant la loge en face de la sienne; je portai mes yeux sur cette loge, et je reconnus dedans une femme avec qui j'étais assez familier.\n",
      " PREDICTED: Bientôt je vis venir à sa personne un regard qui était en haut ; je vis une femme que j ' étais à qui ne menait que les vertus .\n",
      "--------------------------------------------------------------------------------\n"
     ]
    },
    {
     "name": "stderr",
     "output_type": "stream",
     "text": [
      "processing epoch 37: 100%|██████████| 3823/3823 [08:15<00:00,  7.71it/s, loss=1.683]\n",
      "stty: 'standard input': Inappropriate ioctl for device\n"
     ]
    },
    {
     "name": "stdout",
     "output_type": "stream",
     "text": [
      "--------------------------------------------------------------------------------\n",
      "    SOURCE: It was what I should call a full-bodied dog, with a well-developed chest.\n",
      "    TARGET: C’était ce que j’appellerais un chien dodu, au thorax bien développé.\n",
      " PREDICTED: C ' était ce que j ' avais de l ' appel plein de , d ' une poitrine très - forte se mit à bout .\n",
      "--------------------------------------------------------------------------------\n",
      "    SOURCE: Evidently this catastrophe had been intentionally produced.\n",
      "    TARGET: Évidemment, on avait voulu cette catastrophe.\n",
      " PREDICTED: Il était évident que cette catastrophe se portait avec fracas .\n",
      "--------------------------------------------------------------------------------\n"
     ]
    },
    {
     "name": "stderr",
     "output_type": "stream",
     "text": [
      "processing epoch 38: 100%|██████████| 3823/3823 [08:12<00:00,  7.76it/s, loss=1.610]\n",
      "stty: 'standard input': Inappropriate ioctl for device\n"
     ]
    },
    {
     "name": "stdout",
     "output_type": "stream",
     "text": [
      "--------------------------------------------------------------------------------\n",
      "    SOURCE: And there was our second battalion laid out on the hillside.\n",
      "    TARGET: Aussi voilà votre second bataillon étendu sur la pente.\n",
      " PREDICTED: Et il y avait notre second chat couché sur la veille , dans les plus favorables .\n",
      "--------------------------------------------------------------------------------\n",
      "    SOURCE: It seemed as if at every step we were about to stumble and fall on the hard stony ground of the square.\n",
      "    TARGET: Il me semblait qu’à chaque pas nous allions buter sur le sol caillouteux et dur de la place et que nous allions tomber.\n",
      " PREDICTED: On eût dit un pas de ces ressemblance à la chute des Antilles par les sévère plaine .\n",
      "--------------------------------------------------------------------------------\n"
     ]
    },
    {
     "name": "stderr",
     "output_type": "stream",
     "text": [
      "processing epoch 39: 100%|██████████| 3823/3823 [08:10<00:00,  7.79it/s, loss=1.636]\n",
      "stty: 'standard input': Inappropriate ioctl for device\n"
     ]
    },
    {
     "name": "stdout",
     "output_type": "stream",
     "text": [
      "--------------------------------------------------------------------------------\n",
      "    SOURCE: \"Innocent boy!\" I exclaimed.\n",
      "    TARGET: -- Naïf ! m'écriai-je.\n",
      " PREDICTED: -- enfant ! m ' écriai - je .\n",
      "--------------------------------------------------------------------------------\n",
      "    SOURCE: How grateful the inhabitants of Granite House then were to Heaven for having prepared for them this solid and immovable retreat!\n",
      "    TARGET: Combien les hôtes de Granite-House durent alors remercier le ciel de leur avoir ménagé cette solide et inébranlable retraite!\n",
      " PREDICTED: Comme ils avaient voulu les habitants de Granite - House , ils étaient donc prêts à faire ce mouvement et suivi !\n",
      "--------------------------------------------------------------------------------\n"
     ]
    },
    {
     "name": "stderr",
     "output_type": "stream",
     "text": [
      "processing epoch 40: 100%|██████████| 3823/3823 [08:08<00:00,  7.83it/s, loss=1.642]\n",
      "stty: 'standard input': Inappropriate ioctl for device\n"
     ]
    },
    {
     "name": "stdout",
     "output_type": "stream",
     "text": [
      "--------------------------------------------------------------------------------\n",
      "    SOURCE: On avait apporté avec les habits une belle paire de bottes neuves.\n",
      "    TARGET: With these had come a fine pair of new boots.\n",
      " PREDICTED: They had the deep down in his wooden creature .\n",
      "--------------------------------------------------------------------------------\n",
      "    SOURCE: \"I think you'll agree with me, gentlemen, that Joe Berks would be all the better for some fresh air and exercise,\" said my uncle.\n",
      "    TARGET: -- Je suppose, gentlemen, que vous serez comme moi d'avis que Joe Berks ne s'en trouvera que mieux, s'il se donne un peu d'air frais et d'exercice, dit mon oncle.\n",
      " PREDICTED: Je pense que vous y , messieurs , que Joe Berks serait à quelque mauvaise air , à bout d ' atmosphère , dit mon oncle .\n",
      "--------------------------------------------------------------------------------\n"
     ]
    },
    {
     "name": "stderr",
     "output_type": "stream",
     "text": [
      "processing epoch 41: 100%|██████████| 3823/3823 [08:06<00:00,  7.86it/s, loss=1.586]\n",
      "stty: 'standard input': Inappropriate ioctl for device\n"
     ]
    },
    {
     "name": "stdout",
     "output_type": "stream",
     "text": [
      "--------------------------------------------------------------------------------\n",
      "    SOURCE: He centralized merchandise, and the considerable custom of the settlements enabled him to sell more cheaply and to give longer credit.\n",
      "    TARGET: Il centralisait les marchandises, la clientele considérable des corons lui permettait de vendre moins cher et de faire des crédits plus grands.\n",
      " PREDICTED: Il , il devinait les gros , l ' usage des corons le remit mieux et se donner honneur de le rendre crédit .\n",
      "--------------------------------------------------------------------------------\n",
      "    SOURCE: Laurent, at times, thought of taking Therese violently in his arms; but he dared not move. He said to himself that he could not extend his hand, without getting it full of the soft flesh of Camille.\n",
      "    TARGET: Laurent songeait parfois à prendre violemment Thérèse dans ses bras; mais il n'osait bouger, il se disait qu'il ne pouvait allonger la main sans saisir une poignée de la chair molle de Camille.\n",
      " PREDICTED: Laurent , a chaque fois , ne fit pas violemment Thérèse ; mais il n ' osait pas se promener il lui - même , il ne pouvait s ' arrêter de sa chair sans coeur .\n",
      "--------------------------------------------------------------------------------\n"
     ]
    },
    {
     "name": "stderr",
     "output_type": "stream",
     "text": [
      "processing epoch 42: 100%|██████████| 3823/3823 [08:06<00:00,  7.86it/s, loss=1.980]\n",
      "stty: 'standard input': Inappropriate ioctl for device\n"
     ]
    },
    {
     "name": "stdout",
     "output_type": "stream",
     "text": [
      "--------------------------------------------------------------------------------\n",
      "    SOURCE: \"Yes,\" continued Mme. Bonacieux, \"yes, there are traitors here; but by the holy name of the Virgin, I swear that no one is more devoted to your Majesty than I am.\n",
      "    TARGET: «Oui, continua Mme Bonacieux, oui, il y a des traîtres ici; mais, par le saint nom de la Vierge, je vous jure que personne n'est plus dévoué que moi à Votre Majesté.\n",
      " PREDICTED: -- Oui , continua Mme Bonacieux , oui , il y a des traîtres ; mais au nom de la Vierge , je ne suis plus dévoué que vos Majesté .\n",
      "--------------------------------------------------------------------------------\n",
      "    SOURCE: No, not yet.\n",
      "    TARGET: Pas encore.\n",
      " PREDICTED: Non , pas cependant .\n",
      "--------------------------------------------------------------------------------\n"
     ]
    },
    {
     "name": "stderr",
     "output_type": "stream",
     "text": [
      "processing epoch 43: 100%|██████████| 3823/3823 [08:06<00:00,  7.86it/s, loss=1.601]\n",
      "stty: 'standard input': Inappropriate ioctl for device\n"
     ]
    },
    {
     "name": "stdout",
     "output_type": "stream",
     "text": [
      "--------------------------------------------------------------------------------\n",
      "    SOURCE: They were portraits of great men of history who had spent their lives in perpetual devotion to a great human ideal: Thaddeus Kosciusko, the hero whose dying words had been Finis Poloniae; Markos Botzaris, for modern Greece the reincarnation of Sparta's King Leonidas; Daniel O'Connell, Ireland's defender; George Washington, founder of the American Union; Daniele Manin, the Italian patriot; Abraham Lincoln, dead from the bullet of a believer in slavery; and finally, that martyr for the redemption of the black race, John Brown, hanging from his gallows as Victor Hugo's pencil has so terrifyingly depicted.\n",
      "    TARGET: C'étaient des portraits, des portraits de ces grands hommes historiques dont l'existence n'a été qu'un perpétuel dévouement à une grande idée humaine, Kosciusko, le héros tombé au cri de _Finis Polonioe_, Botzaris, le Léonidas de la Grèce moderne, O'Connell, le défenseur de l'Irlande, Washington, le fondateur de l'Union américaine, Manin, le patriote italien, Lincoln, tombé sous la balle d'un esclavagiste, et enfin, ce martyr de l'affranchissement de la race noire, John Brown, suspendu à son gibet, tel que l'a si terriblement dessiné le crayon de Victor Hugo.\n",
      " PREDICTED: Ils étaient des premiers hommes de rente qui ont mis la vie à l ' histoire du pauvre chirurgien , et d ' un vrai génie pour celui du roi qui avait été pour ainsi songé .\n",
      "--------------------------------------------------------------------------------\n",
      "    SOURCE: The two old men spoke little, scarcely exchanging ten words during the half-hour that they spent together.\n",
      "    TARGET: Les deux anciens ne se parlaient guere, échangeaient a peine dix paroles, pendant la demi-heure qu'ils passaient ensemble.\n",
      " PREDICTED: Les deux vieux , parlez à moins de time pendant dix mots , pendant que l ' heure ils passèrent ensemble .\n",
      "--------------------------------------------------------------------------------\n"
     ]
    },
    {
     "name": "stderr",
     "output_type": "stream",
     "text": [
      "processing epoch 44: 100%|██████████| 3823/3823 [08:06<00:00,  7.86it/s, loss=1.668]\n",
      "stty: 'standard input': Inappropriate ioctl for device\n"
     ]
    },
    {
     "name": "stdout",
     "output_type": "stream",
     "text": [
      "--------------------------------------------------------------------------------\n",
      "    SOURCE: \"Why should we go?\"\n",
      "    TARGET: --Pourquoi nous en irions-nous?\n",
      " PREDICTED: -- Pourquoi nous en aller ?\n",
      "--------------------------------------------------------------------------------\n",
      "    SOURCE: They had not as yet had any unpleasant encounters, and the journey seemed on the point of being successfully accomplished, when the elephant, becoming restless, suddenly stopped.\n",
      "    TARGET: En tout cas, il n'avait fait jusqu'alors aucune rencontre fâcheuse, et le voyage semblait devoir s'accomplir sans accident, quand l'éléphant, donnant quelques signes d'inquiétude, s'arrêta soudain.\n",
      " PREDICTED: Ils n ' avaient pas encore eu la conduite avant de se faire bien vite , et le voyage paraissait merci , quand le éléphant s ' enflammait .\n",
      "--------------------------------------------------------------------------------\n"
     ]
    },
    {
     "name": "stderr",
     "output_type": "stream",
     "text": [
      "processing epoch 45: 100%|██████████| 3823/3823 [08:09<00:00,  7.81it/s, loss=1.623]\n",
      "stty: 'standard input': Inappropriate ioctl for device\n"
     ]
    },
    {
     "name": "stdout",
     "output_type": "stream",
     "text": [
      "--------------------------------------------------------------------------------\n",
      "    SOURCE: 'No, not exactly; he has always spoken to me of the vocation that is calling him to the sacred ministry; but believe me, the first vocation for the lower orders is to find their daily bread.\n",
      "    TARGET: – Non pas précisément ; il m’a toujours parlé de la vocation qui l’appelle au saint ministère ; mais croyez-moi, la première vocation pour ces petites gens, c’est d’avoir du pain.\n",
      " PREDICTED: – Non , pas exactement ; il m ’ a parlé de la vocation de la vocation qui lui appelle le ministère ; mais je trouve la première fois de la montée .\n",
      "--------------------------------------------------------------------------------\n",
      "    SOURCE: He took the decanter of water from the hands of his wife and poured out a glassful.\n",
      "    TARGET: Il enleva la carafe des mains de sa femme et remplit un verre d'eau.\n",
      " PREDICTED: Il prit la jupe à l ’ eau des mains de sa femme et lui versa un verre .\n",
      "--------------------------------------------------------------------------------\n"
     ]
    },
    {
     "name": "stderr",
     "output_type": "stream",
     "text": [
      "processing epoch 46: 100%|██████████| 3823/3823 [08:06<00:00,  7.87it/s, loss=1.562]\n",
      "stty: 'standard input': Inappropriate ioctl for device\n"
     ]
    },
    {
     "name": "stdout",
     "output_type": "stream",
     "text": [
      "--------------------------------------------------------------------------------\n",
      "    SOURCE: D’ailleurs vous n’avancez point ; par pure vergogne, décampons.\n",
      "    TARGET: Besides, you are making no headway; if only for shame, let us clear out.\"\n",
      " PREDICTED: Besides , you should not again ; by pure , pareille .\n",
      "--------------------------------------------------------------------------------\n",
      "    SOURCE: Le comte Zurla, ministre de l’Intérieur, est allé lui-même à la demeure de chacun de ces héros malheureux, et a remis quinze sequins à leurs familles ou à leurs amis, avec ordre de dire que le défunt était en voyage, et menace très expresse de la prison, si l’on s’avisait de faire entendre qu’il avait été tué.\n",
      "    TARGET: Conte Zurla, the Minister of the Interior, has gone in person to the house of each of these unfortunate heroes, and has handed fifteen sequins to his family or his friends, with the order to say that the deceased is abroad, and a very definite threat of imprisonment should they let it be understood that he is dead.\n",
      " PREDICTED: Conte Zurla , the Minister of the Interior , is repris to be able to find some one of those courtier , and a donné black fis black hands in your own hands .\"\n",
      "--------------------------------------------------------------------------------\n"
     ]
    },
    {
     "name": "stderr",
     "output_type": "stream",
     "text": [
      "processing epoch 47: 100%|██████████| 3823/3823 [08:08<00:00,  7.82it/s, loss=1.717]\n",
      "stty: 'standard input': Inappropriate ioctl for device\n"
     ]
    },
    {
     "name": "stdout",
     "output_type": "stream",
     "text": [
      "--------------------------------------------------------------------------------\n",
      "    SOURCE: He walked up and down the room with little, impatient steps as he talked, turning with a whisk upon his heel every now and then, as if some invisible rail had brought him up.\n",
      "    TARGET: Il arpenta la pièce à petits pas impatients tout en parlant et en pivotant de temps à autre sur un talon, comme si quelque barrière invisible l'avait arrêté.\n",
      " PREDICTED: Il se promenait à pas , avec un petit pas , impatient comme lui , tournant le dos aux talons , et , comme si un l ' eût , qui l ' eût un bout .\n",
      "--------------------------------------------------------------------------------\n",
      "    SOURCE: Don't bother me with your evolution!\n",
      "    TARGET: Fichez-moi donc la paix, avec votre évolution!\n",
      " PREDICTED: Ne m ’ ennuyez pas à vos alors !\n",
      "--------------------------------------------------------------------------------\n"
     ]
    },
    {
     "name": "stderr",
     "output_type": "stream",
     "text": [
      "processing epoch 48: 100%|██████████| 3823/3823 [08:06<00:00,  7.85it/s, loss=2.095]\n",
      "stty: 'standard input': Inappropriate ioctl for device\n"
     ]
    },
    {
     "name": "stdout",
     "output_type": "stream",
     "text": [
      "--------------------------------------------------------------------------------\n",
      "    SOURCE: They stopped.\n",
      "    TARGET: Ils s’arrêtèrent.\n",
      " PREDICTED: Ils s ' arrêtèrent .\n",
      "--------------------------------------------------------------------------------\n",
      "    SOURCE: There were tears in his eyes, due not so much to his bodily pain as to the loss of his book, which he adored.\n",
      "    TARGET: Il avait les larmes aux yeux, moins à cause de la douleur physique que pour la perte de son livre qu’il adorait.\n",
      " PREDICTED: Il y avait des larmes aux yeux , sinon tant à peine à sa douleur près du livre mal de son livre , qu ' il adorait .\n",
      "--------------------------------------------------------------------------------\n"
     ]
    },
    {
     "name": "stderr",
     "output_type": "stream",
     "text": [
      "processing epoch 49: 100%|██████████| 3823/3823 [08:03<00:00,  7.90it/s, loss=1.575]\n",
      "stty: 'standard input': Inappropriate ioctl for device\n"
     ]
    },
    {
     "name": "stdout",
     "output_type": "stream",
     "text": [
      "--------------------------------------------------------------------------------\n",
      "    SOURCE: Holmes shrugged his shoulders.\n",
      "    TARGET: Holmes haussa les épaules.\n",
      " PREDICTED: Holmes haussa les épaules .\n",
      "--------------------------------------------------------------------------------\n",
      "    SOURCE: Madame de Renal found an opportunity of saying to Julien:\n",
      "    TARGET: Mme de Rênal trouva le moment de dire à Julien :\n",
      " PREDICTED: Mme de Rênal trouva une occasion de dire à Julien :\n",
      "--------------------------------------------------------------------------------\n"
     ]
    },
    {
     "name": "stderr",
     "output_type": "stream",
     "text": [
      "processing epoch 50: 100%|██████████| 3823/3823 [08:09<00:00,  7.81it/s, loss=1.574]\n",
      "stty: 'standard input': Inappropriate ioctl for device\n"
     ]
    },
    {
     "name": "stdout",
     "output_type": "stream",
     "text": [
      "--------------------------------------------------------------------------------\n",
      "    SOURCE: \"I wish you joy.\n",
      "    TARGET: « Je vous souhaite beaucoup de bonheur.\n",
      " PREDICTED: -- Je veux vous rendre joie .\n",
      "--------------------------------------------------------------------------------\n",
      "    SOURCE: This sound aroused him as the crow of the cock aroused Saint Peter.\n",
      "    TARGET: Ce bruit le réveilla comme le chant du coq réveilla saint Pierre.\n",
      " PREDICTED: Ce bruit le réveilla si fort le fiacre du pont Saint - Pierre .\n",
      "--------------------------------------------------------------------------------\n"
     ]
    },
    {
     "name": "stderr",
     "output_type": "stream",
     "text": [
      "processing epoch 51: 100%|██████████| 3823/3823 [08:10<00:00,  7.79it/s, loss=1.527]\n",
      "stty: 'standard input': Inappropriate ioctl for device\n"
     ]
    },
    {
     "name": "stdout",
     "output_type": "stream",
     "text": [
      "--------------------------------------------------------------------------------\n",
      "    SOURCE: « Pourquoi pas ? murmura-t-il, en s’asseyant sous l‘abri d‘une pierre géante, pourquoi pas ? autant maintenant que plus tard, autant ici que dans un bon lit. »\n",
      "    TARGET: \"Why not here, as well as in a feather bed, twenty years hence,\" he muttered, as he seated himself in the shelter of a boulder.\n",
      " PREDICTED: \" Why not be a ?\" he his seat to the air of is surely , why the as you could not see them here .\"\n",
      "--------------------------------------------------------------------------------\n",
      "    SOURCE: 'Come, my dear,' said I, 'sit down, and let us compare our sorrows. I am a prisoner in this very house, and in much worse circumstances than you, and you will be satisfied I do not come to insult you, when I tell you the particulars.'\n",
      "    TARGET: --Allons, mon ami, dis-je, assieds-toi et comparons nos douleurs; je suis prisonnière dans cette même maison, et en bien plus mauvaise condition que toi, et tu seras convaincu que je ne suis point venue pour t'insulter quand je t'en dirai les détails.\n",
      " PREDICTED: -- Tenez , mon ami , dis - je , et buvons nos efforts , je suis prisonnier à cette habitation , et si mauvaise enfant , vous ne venez pas grand encore plus .\n",
      "--------------------------------------------------------------------------------\n"
     ]
    },
    {
     "name": "stderr",
     "output_type": "stream",
     "text": [
      "processing epoch 52: 100%|██████████| 3823/3823 [08:07<00:00,  7.83it/s, loss=1.501]\n",
      "stty: 'standard input': Inappropriate ioctl for device\n"
     ]
    },
    {
     "name": "stdout",
     "output_type": "stream",
     "text": [
      "--------------------------------------------------------------------------------\n",
      "    SOURCE: Conduisez le petit jeune homme à l’auberge et pansez son bras ; prenez une de mes chemises.\n",
      "    TARGET: Take the young man to the inn and tie up his arm. Use one of my shirts.\"\n",
      " PREDICTED: Their little young man to him in her arms with his arms with my .\n",
      "--------------------------------------------------------------------------------\n",
      "    SOURCE: \"Why,\" said the reporter, \"there is something.\n",
      "    TARGET: «En effet, dit le reporter, il y a quelque chose.\n",
      " PREDICTED: -- Pourquoi , dit le reporter , il y a quelque chose .\n",
      "--------------------------------------------------------------------------------\n"
     ]
    },
    {
     "name": "stderr",
     "output_type": "stream",
     "text": [
      "processing epoch 53: 100%|██████████| 3823/3823 [08:05<00:00,  7.87it/s, loss=1.584]\n",
      "stty: 'standard input': Inappropriate ioctl for device\n"
     ]
    },
    {
     "name": "stdout",
     "output_type": "stream",
     "text": [
      "--------------------------------------------------------------------------------\n",
      "    SOURCE: This was not his man of the day before.\n",
      "    TARGET: Ce n’était pas son homme de la veille.\n",
      " PREDICTED: Ce n ’ était pas son homme la veille .\n",
      "--------------------------------------------------------------------------------\n",
      "    SOURCE: They had buried it for spite in the earth, under the episcopal seat of Monsignor.\n",
      "    TARGET: Ils l’avaient, par méchanceté, ensevelie dans de la terre, sous le siège épiscopal de Monseigneur.\n",
      " PREDICTED: On l ' avait vaincue malgré le sol , sous le port où il à Monseigneur .\n",
      "--------------------------------------------------------------------------------\n"
     ]
    },
    {
     "name": "stderr",
     "output_type": "stream",
     "text": [
      "processing epoch 54: 100%|██████████| 3823/3823 [08:07<00:00,  7.84it/s, loss=1.758]\n",
      "stty: 'standard input': Inappropriate ioctl for device\n"
     ]
    },
    {
     "name": "stdout",
     "output_type": "stream",
     "text": [
      "--------------------------------------------------------------------------------\n",
      "    SOURCE: That part of the hull in which the magazine was situated was, moreover, that which had suffered least.\n",
      "    TARGET: La portion de la coque dans laquelle se trouvait située la soute était précisément celle qui avait le moins souffert.\n",
      " PREDICTED: Cette partie de la coque dans laquelle était donc était située , d ' ailleurs , tout ce qui avait souffert .\n",
      "--------------------------------------------------------------------------------\n",
      "    SOURCE: It is not likely that money should be very abundant on either side; and it might strike them that they could be more economically, though less expeditiously, married in London than in Scotland.\"\n",
      "    TARGET: N’ayant sans doute ni l’un ni l’autre beaucoup d’argent, ils ont pu trouver plus économique, sinon aussi expéditif, de se faire marier a Londres plutôt qu’en Écosse.\n",
      " PREDICTED: Ce n ' est pas que l ' argent soient très bas et qu ' il pouvait les laisser s ' établir à moi , de même ce n ' est pas de Londres que de Londres ...\n",
      "--------------------------------------------------------------------------------\n"
     ]
    },
    {
     "name": "stderr",
     "output_type": "stream",
     "text": [
      "processing epoch 55: 100%|██████████| 3823/3823 [08:08<00:00,  7.83it/s, loss=1.606]\n",
      "stty: 'standard input': Inappropriate ioctl for device\n"
     ]
    },
    {
     "name": "stdout",
     "output_type": "stream",
     "text": [
      "--------------------------------------------------------------------------------\n",
      "    SOURCE: Why?\n",
      "    TARGET: Pourquoi?…\n",
      " PREDICTED: Pourquoi ?\n",
      "--------------------------------------------------------------------------------\n",
      "    SOURCE: Her answer was warmly in his favour.\n",
      "    TARGET: Elle lui répondit par l’affirmative.\n",
      " PREDICTED: Sa réponse fut parfaite , je vous montrai !\n",
      "--------------------------------------------------------------------------------\n"
     ]
    },
    {
     "name": "stderr",
     "output_type": "stream",
     "text": [
      "processing epoch 56: 100%|██████████| 3823/3823 [08:07<00:00,  7.84it/s, loss=1.604]\n",
      "stty: 'standard input': Inappropriate ioctl for device\n"
     ]
    },
    {
     "name": "stdout",
     "output_type": "stream",
     "text": [
      "--------------------------------------------------------------------------------\n",
      "    SOURCE: \"Besides, the fire is too hot for you,\" interposed Mary.\n",
      "    TARGET: -- Et puis le feu est trop chaud pour vous, ajouta Marie.\n",
      " PREDICTED: -- D ' ailleurs , le feu est trop chaud pour vous , reprit Marie .\n",
      "--------------------------------------------------------------------------------\n",
      "    SOURCE: \"What shall we do when night comes on?\" asked Gideon Spilett.\n",
      "    TARGET: «Que ferons-nous, la nuit venue? demanda Gédéon Spilett.\n",
      " PREDICTED: -- Que saurons - nous quand nous ? demanda Gédéon Spilett .\n",
      "--------------------------------------------------------------------------------\n"
     ]
    },
    {
     "name": "stderr",
     "output_type": "stream",
     "text": [
      "processing epoch 57: 100%|██████████| 3823/3823 [08:12<00:00,  7.77it/s, loss=1.566]\n",
      "stty: 'standard input': Inappropriate ioctl for device\n"
     ]
    },
    {
     "name": "stdout",
     "output_type": "stream",
     "text": [
      "--------------------------------------------------------------------------------\n",
      "    SOURCE: \"Pray,\" said the abbe, \"good folks, have you seen the romance written by a certain Gauchat, Doctor of Divinity?\"\n",
      "    TARGET: Avez-vous vu, dit l'abbé périgourdin, le roman du sieur Gauchat, docteur en théologie?\n",
      " PREDICTED: « Le bel abbé , dit l ' abbé , vous avez vu le tour du roman par un certain nombre de , le nom de Dieu ?\n",
      "--------------------------------------------------------------------------------\n",
      "    SOURCE: For twenty-five days of the month the camellias were white, and for five they were red; no one ever knew the reason of this change of colour, which I mention though I can not explain it; it was noticed both by her friends and by the habitue's of the theatres to which she most often went.\n",
      "    TARGET: Pendant vingt-cinq jours du mois, les camélias étaient blancs, et pendant cinq ils étaient rouges; on n'a jamais su la raison de cette variété de couleurs, que je signale san pouvoir l'expliquer et que les habitués des théâtres où elle allait le plus fréquement et ses amis avaient remarquée comme moi.\n",
      " PREDICTED: Pendant vingt - cinq jours , le mois de cette chasse était dissipé , et je n ' étais jamais jolie .\n",
      "--------------------------------------------------------------------------------\n"
     ]
    },
    {
     "name": "stderr",
     "output_type": "stream",
     "text": [
      "processing epoch 58: 100%|██████████| 3823/3823 [08:12<00:00,  7.77it/s, loss=1.709]\n",
      "stty: 'standard input': Inappropriate ioctl for device\n"
     ]
    },
    {
     "name": "stdout",
     "output_type": "stream",
     "text": [
      "--------------------------------------------------------------------------------\n",
      "    SOURCE: Besides, he liked her to soap him, to rub him everywhere till she almost broke her wrists.\n",
      "    TARGET: D'ailleurs, il aimait qu'elle le savonnât, qu'elle le frottât partout, a se casser les poignets.\n",
      " PREDICTED: D ’ ailleurs , il aimait le savon , lui - même , en l ’ endroit tout près de ses poignets .\n",
      "--------------------------------------------------------------------------------\n",
      "    SOURCE: Did he want to change his plans concerning us?\n",
      "    TARGET: Voulait-il modifier ses projets à notre égard ?\n",
      " PREDICTED: - il ses projets sur nous ?\n",
      "--------------------------------------------------------------------------------\n"
     ]
    },
    {
     "name": "stderr",
     "output_type": "stream",
     "text": [
      "processing epoch 59: 100%|██████████| 3823/3823 [08:10<00:00,  7.80it/s, loss=1.819]\n",
      "stty: 'standard input': Inappropriate ioctl for device\n"
     ]
    },
    {
     "name": "stdout",
     "output_type": "stream",
     "text": [
      "--------------------------------------------------------------------------------\n",
      "    SOURCE: A circle was formed around them. The conditions required that at every hit the man touched should quit the game, yielding his turn for the benefit of the adversary who had hit him.\n",
      "    TARGET: On faisait cercle autour d'eux: la condition portait qu'à chaque coup le touché quitterait la partie, en perdant son tour d'audience au profit du toucheur.\n",
      " PREDICTED: Il se fit un tour autour d ' eux , ces conditions allèrent que , en toutes les conditions au jeu , la pensait à peine pour lui avoir faite .\n",
      "--------------------------------------------------------------------------------\n",
      "    SOURCE: Now, like his mates, he got up at three o'clock, drank his coffee, and carried off the double slice of bread and butter which Madame Rasseneur had prepared for him the evening before.\n",
      "    TARGET: Maintenant, comme les camarades, il se levait a trois heures, buvait le café, emportait la double tartine que madame Rasseneur lui préparait des la veille.\n",
      " PREDICTED: Maintenant , les camarades , il se décida a trois heures , son café , portez la double tartine sur le double de Rasseneur , qui lui avait pour la veille .\n",
      "--------------------------------------------------------------------------------\n"
     ]
    },
    {
     "name": "stderr",
     "output_type": "stream",
     "text": [
      "processing epoch 60: 100%|██████████| 3823/3823 [08:13<00:00,  7.75it/s, loss=1.758]\n",
      "stty: 'standard input': Inappropriate ioctl for device\n"
     ]
    },
    {
     "name": "stdout",
     "output_type": "stream",
     "text": [
      "--------------------------------------------------------------------------------\n",
      "    SOURCE: Sir Francis shook his fists, Passepartout was beside himself, and the guide gnashed his teeth with rage.\n",
      "    TARGET: Sir Francis Cromarty se rongeait les poings. Passepartout était hors de lui, et le guide avait quelque peine à le contenir.\n",
      " PREDICTED: Sir Francis Cromarty se levait à côté de lui , et le guide se dirigea avec rage .\n",
      "--------------------------------------------------------------------------------\n",
      "    SOURCE: Persons desirous of visiting this door at the present day will recognize it by this inscription engraved in white letters on the black wall: \"J'ADORE CORALIE, 1823.\n",
      "    TARGET: Les personnes qui seraient curieuses aujourd’hui de visiter cette porte la reconnaîtront à cette inscription, gravée en lettres blanches dans la muraille noire : J’ADORE CORALIE, 1829.\n",
      " PREDICTED: On voulait voir cette porte , à ce jour - là , -- writing par cette êtes ta writing en lettres blanc sur le mur : « J ’ pour les éclairer .\n",
      "--------------------------------------------------------------------------------\n"
     ]
    },
    {
     "name": "stderr",
     "output_type": "stream",
     "text": [
      "processing epoch 61: 100%|██████████| 3823/3823 [08:08<00:00,  7.83it/s, loss=1.589]\n",
      "stty: 'standard input': Inappropriate ioctl for device\n"
     ]
    },
    {
     "name": "stdout",
     "output_type": "stream",
     "text": [
      "--------------------------------------------------------------------------------\n",
      "    SOURCE: \"To-morrow,\" he answered.\n",
      "    TARGET: -- À demain, répondit-il.\n",
      " PREDICTED: -- Demain , répondit - il .\n",
      "--------------------------------------------------------------------------------\n",
      "    SOURCE: \"Ah,\" said d’Artagnan, \"I did not see that; it was the sword of the Comte de Wardes which made that hole, when he gave me a good thrust in the breast.\"\n",
      "    TARGET: -- Ah! ah! dit d'Artagnan, je n'avais pas vu cela; c'est l'épée du comte de Wardes qui aura fait ce beau coup en me trouant la poitrine.\n",
      " PREDICTED: -- Ah ! dit d ' Artagnan , je n ' ai pas vu cela ; c ' était l ' épée du comte de Wardes qui me fit donner la poitrine , quand il me donna un malade .\n",
      "--------------------------------------------------------------------------------\n"
     ]
    },
    {
     "name": "stderr",
     "output_type": "stream",
     "text": [
      "processing epoch 62: 100%|██████████| 3823/3823 [08:08<00:00,  7.82it/s, loss=1.589]\n",
      "stty: 'standard input': Inappropriate ioctl for device\n"
     ]
    },
    {
     "name": "stdout",
     "output_type": "stream",
     "text": [
      "--------------------------------------------------------------------------------\n",
      "    SOURCE: Olivier and Suzanne arrived behind them.\n",
      "    TARGET: Olivier et Suzanne arrivèrent derrière eux.\n",
      " PREDICTED: Olivier et Suzanne arrivèrent derrière eux .\n",
      "--------------------------------------------------------------------------------\n",
      "    SOURCE: \"Nay,\" cried Bingley, \"this is too much, to remember at night all the foolish things that were said in the morning.\n",
      "    TARGET: – Allons ! Allons ! s’écria Bingley, on ne doit pas rappeler le soir les sottises qui ont été dites le matin.\n",
      " PREDICTED: – En effet , s ’ écria Bingley , c ’ est trop de , souvenez - vous que tous les choses du matin font part .\n",
      "--------------------------------------------------------------------------------\n"
     ]
    },
    {
     "name": "stderr",
     "output_type": "stream",
     "text": [
      "processing epoch 63: 100%|██████████| 3823/3823 [08:08<00:00,  7.83it/s, loss=1.603]\n",
      "stty: 'standard input': Inappropriate ioctl for device\n"
     ]
    },
    {
     "name": "stdout",
     "output_type": "stream",
     "text": [
      "--------------------------------------------------------------------------------\n",
      "    SOURCE: Both of them had fallen to the earth, and it was Étienne who snatched it up, brandishing it in his turn.\n",
      "    TARGET: Tous deux s'étaient jetés par terre, ce fut lui qui le ramassa, qui le brandit a son tour.\n",
      " PREDICTED: Tous deux avaient voulu tomber a terre , et il était Étienne qui l ' a arrachée , avec elles , au bout de son tour .\n",
      "--------------------------------------------------------------------------------\n",
      "    SOURCE: As for my lodging, I kept to the tent; except that sometimes, in the wet season of the year, it rained so hard that I could not keep myself dry, which caused me afterwards to cover all my place within my pale with long poles, in the form of rafters, leaning against the rock, and load them with flags and large leaves of trees, like a thatch.\n",
      "    TARGET: Quant à mon logement, je me tenais dans ma tente, hormis quelques jours de la saison humide de l'année, où il pleuvait si fort que je ne pouvais y être à l'abri; ce qui m'obligea, plus tard, à couvrir tout mon enclos de longues perches en forme de chevrons, buttant contre le rocher, et à les charger de glaïeuls et de grandes feuilles d'arbres, en guise de chaume.\n",
      " PREDICTED: Quant au loyer de me servir de la houle , et parfois les prêter du train de la taille , les paupières me la grande silhouette de longues , je ne pus me pas directement .\n",
      "--------------------------------------------------------------------------------\n"
     ]
    },
    {
     "name": "stderr",
     "output_type": "stream",
     "text": [
      "processing epoch 64: 100%|██████████| 3823/3823 [08:07<00:00,  7.84it/s, loss=1.589]\n",
      "stty: 'standard input': Inappropriate ioctl for device\n"
     ]
    },
    {
     "name": "stdout",
     "output_type": "stream",
     "text": [
      "--------------------------------------------------------------------------------\n",
      "    SOURCE: I had, again and again, held the water to Mason's white lips; again and again offered him the stimulating salts: my efforts seemed ineffectual: either bodily or mental suffering, or loss of blood, or all three combined, were fast prostrating his strength. He moaned so, and looked so weak, wild, and lost, I feared he was dying; and I might not even speak to him.\n",
      "    TARGET: Bien des fois j'avais porté le verre aux lèvres pâles de Mason et je lui avais fait respirer les sels; mes efforts semblaient vains: la souffrance physique, la souffrance morale, la perte du sang, ou plutôt ces trois choses réunies, amoindrissaient ses forces d'instant en instant; ses gémissements, son regard à la fois faible et égaré, me faisaient craindre de le voir expirer, et je ne devais même pas lui parler.\n",
      " PREDICTED: J ' avais de nouveau endormie l ' eau de Mason la de Mason ; et il lui offrit les tremblant de l ' , non plus tôt que les trois semble surpris :\n",
      "--------------------------------------------------------------------------------\n",
      "    SOURCE: The stern Jansenist, indignant at everything that he saw around him, spent a long time at work with the counsel whom he had chosen for the Marquis de La Mole, and then left for Paris.\n",
      "    TARGET: Le sévère janséniste, indigné de tout ce qu’il voyait, fit un long travail avec les avocats qu’il avait choisis pour le marquis de La Mole, et partit pour Paris.\n",
      " PREDICTED: Le sévère janséniste , troubler tout ce qu ’ il voyait autour de lui , passa longtemps à l ’ avocat que le marquis pour La Mole ; puis à Paris , à Paris .\n",
      "--------------------------------------------------------------------------------\n"
     ]
    },
    {
     "name": "stderr",
     "output_type": "stream",
     "text": [
      "processing epoch 65: 100%|██████████| 3823/3823 [08:07<00:00,  7.84it/s, loss=1.470]\n",
      "stty: 'standard input': Inappropriate ioctl for device\n"
     ]
    },
    {
     "name": "stdout",
     "output_type": "stream",
     "text": [
      "--------------------------------------------------------------------------------\n",
      "    SOURCE: \"And when I think,\" he went on, \"that she died before I could see her, and that I shall never see her again, when I think that she did for me what no sister would ever have done, I can not forgive myself for having left her to die like that.\n",
      "    TARGET: --Et quand je pense, reprit-il, que celle-ci est morte sans que j'aie pu la revoir et que je ne la reverrai jamais; quand je pense qu'elle a fait pour moi ce qu'une sœur n'eût pas fait, je ne me pardonne pas de l'avoir laissée mourir ainsi.\n",
      " PREDICTED: « Et quand je pense , continua - t - il , qu ’ elle était morte de la voir , et que je ne la verrai jamais elle me faire , je ne me réveille .\n",
      "--------------------------------------------------------------------------------\n",
      "    SOURCE: At length however, the question was asked by her uncle; and she turned away with alarm, while Mrs. Reynolds replied that he was, adding, \"But we expect him to-morrow, with a large party of friends.\"\n",
      "    TARGET: Enfin, la question fut posée par son oncle, auquel Mrs. Reynolds répondit affirmativement, en ajoutant : – Mais nous l’attendons demain, avec plusieurs amis.\n",
      " PREDICTED: Enfin la question fut demandé à son oncle , et elle se tourna avec terreur et Mme Rosémilly l ’ : « Oui , il est - ce que nous ?»\n",
      "--------------------------------------------------------------------------------\n"
     ]
    },
    {
     "name": "stderr",
     "output_type": "stream",
     "text": [
      "processing epoch 66: 100%|██████████| 3823/3823 [08:06<00:00,  7.85it/s, loss=1.532]\n",
      "stty: 'standard input': Inappropriate ioctl for device\n"
     ]
    },
    {
     "name": "stdout",
     "output_type": "stream",
     "text": [
      "--------------------------------------------------------------------------------\n",
      "    SOURCE: OVER the open plain, beneath a starless sky as dark and thick as ink, a man walked alone along the highway from Marchiennes to Montsou, a straight paved road ten kilometres in length, intersecting the beetroot-fields.\n",
      "    TARGET: Dans la plaine rase, sous la nuit sans étoiles, d'une obscurité et d'une épaisseur d'encre, un homme suivait seul la grande route de Marchiennes a Montsou, dix kilometres de pavé coupant tout droit, a travers les champs de betteraves.\n",
      " PREDICTED: Des tranquillement , sous un voile , sous un ciel sombre et épais comme l ' encre , toute seule , la route de Saint - chemin de Montsou , un air de dix kilometres retentit en bon chemin de bon chemin », bon chemin saved déjà where la route , un quart d ' habitude , un quart gauche quart gauche , un quart de Saint - derriere dix kilometres where par un quart de Saint - derriere dix kilometres quart d ' oeil , un quart de Saint - derriere un quart gauche , ferme quart de Saint - derriere un quart étroit , ferme quart étroit quart étroit quart étroit quart étroit quart étroit quart de Saint - derriere un quart étroit , étroit quart étroit quart étroit quart étroit quart étroit quart étroit quart étroit quart étroit , ferme quart de grille , ferme quart\n",
      "--------------------------------------------------------------------------------\n",
      "    SOURCE: Good evening!\"\n",
      "    TARGET: Bonsoir.»\n",
      " PREDICTED: Bonsoir !\n",
      "--------------------------------------------------------------------------------\n"
     ]
    },
    {
     "name": "stderr",
     "output_type": "stream",
     "text": [
      "processing epoch 67: 100%|██████████| 3823/3823 [08:07<00:00,  7.85it/s, loss=1.728]\n",
      "stty: 'standard input': Inappropriate ioctl for device\n"
     ]
    },
    {
     "name": "stdout",
     "output_type": "stream",
     "text": [
      "--------------------------------------------------------------------------------\n",
      "    SOURCE: During the day I received a note containing these words:\n",
      "    TARGET: Dans la journée, je reçus une lettre qui contenait ces mots:\n",
      " PREDICTED: Pendant cette journée , je reçus une note de ces mots :\n",
      "--------------------------------------------------------------------------------\n",
      "    SOURCE: Water-birds would prosper there as well as others, and the couple of tinamous taken in their last excursion would be the first to be domesticated.\n",
      "    TARGET: Les oiseaux aquatiques y sauraient prospérer aussi bien que les autres, et le couple de tinamous, pris dans la dernière excursion, devait servir à un premier essai de domestication.\n",
      " PREDICTED: De l ' eau , des garçons y arranger , comme d ' autres , et les deux « », dans la dernière partie serait de leur quartier .)\n",
      "--------------------------------------------------------------------------------\n"
     ]
    },
    {
     "name": "stderr",
     "output_type": "stream",
     "text": [
      "processing epoch 68: 100%|██████████| 3823/3823 [08:08<00:00,  7.82it/s, loss=1.539]\n",
      "stty: 'standard input': Inappropriate ioctl for device\n"
     ]
    },
    {
     "name": "stdout",
     "output_type": "stream",
     "text": [
      "--------------------------------------------------------------------------------\n",
      "    SOURCE: _Nov._ 17.—This day I began to dig behind my tent into the rock, to make room for my further conveniency.\n",
      "    TARGET: Le 17.--Je commençai, en ce jour, à creuser le roc derrière ma tente, pour ajouter à mes commodités.\n",
      " PREDICTED: Le 7 .-- Le jour commença à m ' emparer de mon tente , pour faire une meilleure chambre .\n",
      "--------------------------------------------------------------------------------\n",
      "    SOURCE: You will learn horsemanship, swordsmanship in all its branches, and dancing. You will make some desirable acquaintances; and from time to time you can call upon me, just to tell me how you are getting on, and to say whether I can be of further service to you.\"\n",
      "    TARGET: Vous apprendrez le manège du cheval, l'escrime et la danse; vous y ferez de bonnes connaissances, et de temps en temps vous reviendrez me voir pour me dire où vous en êtes et si je puis faire quelque chose pour vous.»\n",
      " PREDICTED: Il est a me dire que vous toutes ses branches , et trait pour tâcher de m ’ une fois , vous me dites , de me le voir .\n",
      "--------------------------------------------------------------------------------\n"
     ]
    },
    {
     "name": "stderr",
     "output_type": "stream",
     "text": [
      "processing epoch 69: 100%|██████████| 3823/3823 [08:06<00:00,  7.86it/s, loss=1.488]\n",
      "stty: 'standard input': Inappropriate ioctl for device\n"
     ]
    },
    {
     "name": "stdout",
     "output_type": "stream",
     "text": [
      "--------------------------------------------------------------------------------\n",
      "    SOURCE: I could see clearly a room with a sanded floor, clean scoured; a dresser of walnut, with pewter plates ranged in rows, reflecting the redness and radiance of a glowing peat-fire.\n",
      "    TARGET: J'aperçus une pièce propre et sablée, un dressoir de noyer sur lequel étaient rangées des assiettes d'étain qui reflétaient l'éclat d'un brillant feu de tourbe, une horloge, une grande table blanche et quelques chaises.\n",
      " PREDICTED: Je voyais clair dans un appartement de my pièce à terre , tout , car son corps d ' une voix traînante et ferme , à la lueur rougeâtre des yeux .\n",
      "--------------------------------------------------------------------------------\n",
      "    SOURCE: \"And I like the look of you, and wish you well,\" said Belcher, holding out his hand.\n",
      "    TARGET: -- Et votre air me plaît, je vous veux du bien, dit Belcher en lui tendant la main.\n",
      " PREDICTED: -- Et moi je voudrais bien vous voir , dit Belcher en me tendant la main .\n",
      "--------------------------------------------------------------------------------\n"
     ]
    }
   ],
   "source": [
    "from tqdm import tqdm\n",
    "\n",
    "initial_epoch = 0\n",
    "global_step = 0\n",
    "\n",
    "loss_fn = nn.CrossEntropyLoss(ignore_index=tokenizer_src.token_to_id('[PAD]'), label_smoothing=0.1)\n",
    "\n",
    "for epoch in range(initial_epoch, config['num_epochs']):\n",
    "    torch.cuda.empty_cache()\n",
    "    model.train()\n",
    "    batch_iterator = tqdm(train_dataloader, desc=f\"processing epoch {epoch:02d}\")\n",
    "    for batch in batch_iterator:\n",
    "            #if global_step > 2:\n",
    "            #    break\n",
    "\n",
    "        encoder_input = batch['encoder_input'].to(device) # (B, seq_len)\n",
    "        decoder_input = batch['decoder_input'].to(device) # (B, seq_len)\n",
    "        encoder_mask = batch['encoder_mask'].to(device) # (B, 1, 1, seq_len)\n",
    "        decoder_mask = batch['decoder_mask'].to(device) # (B, 1, seq_len, seq_len)\n",
    "\n",
    "            # Run the tensors through the encoder, decoder, and projection layer\n",
    "        encoder_output = model.encode(encoder_input, encoder_mask) # (B, seq_len, d_model)\n",
    "        decoder_output = model.decode(encoder_output, encoder_mask, decoder_input, decoder_mask) # (B, seq_len, d_model)\n",
    "        proj_output = model.project(decoder_output) # (B, seq_len, vocab_size)\n",
    "\n",
    "            # compare the output with the label\n",
    "        label = batch['label'].to(device) # (B, seq_len)\n",
    "\n",
    "            # compute the loss using a simple cross entropy\n",
    "        loss = loss_fn(proj_output.view(-1, tokenizer_tgt.get_vocab_size()), label.view(-1))\n",
    "        batch_iterator.set_postfix({\"loss\": f\"{loss.item():6.3f}\"})\n",
    "\n",
    "            # Log the loss\n",
    "        writer.add_scalar('train_loss', loss.item(), global_step)\n",
    "        writer.flush()\n",
    "\n",
    "            # Back propagate the loss\n",
    "        loss.backward()\n",
    "\n",
    "            # Update weights\n",
    "        optimizer.step()\n",
    "        optimizer.zero_grad(set_to_none=True)\n",
    "\n",
    "        global_step += 1\n",
    "\n",
    "        # run validation at each epoch\n",
    "    run_validation(model, val_dataloader, tokenizer_src, tokenizer_tgt, config['seq_len'], device, lambda msg: batch_iterator.write(msg), global_step, writer)\n",
    "\n",
    "        # save the model at the end of every epoch\n",
    "    #\n",
    "    if (epoch + 1)%10 == 0:\n",
    "        model_filename = f\"{config['model_basename']}{epoch}.pt\"\n",
    "        torch.save({\n",
    "                'epoch': epoch,\n",
    "                'model_state_dict': model.state_dict(),\n",
    "                'optimizer_state_dict': optimizer.state_dict(),\n",
    "                'global_step': global_step \n",
    "            }, model_filename)"
   ]
  },
  {
   "cell_type": "code",
   "execution_count": null,
   "metadata": {},
   "outputs": [],
   "source": []
  }
 ],
 "metadata": {
  "kernelspec": {
   "display_name": "Python 3 (ipykernel)",
   "language": "python",
   "name": "python3"
  },
  "language_info": {
   "codemirror_mode": {
    "name": "ipython",
    "version": 3
   },
   "file_extension": ".py",
   "mimetype": "text/x-python",
   "name": "python",
   "nbconvert_exporter": "python",
   "pygments_lexer": "ipython3",
   "version": "3.9.16"
  }
 },
 "nbformat": 4,
 "nbformat_minor": 4
}
