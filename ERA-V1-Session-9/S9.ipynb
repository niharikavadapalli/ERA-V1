{
  "nbformat": 4,
  "nbformat_minor": 0,
  "metadata": {
    "colab": {
      "provenance": [],
      "gpuType": "T4"
    },
    "kernelspec": {
      "name": "python3",
      "display_name": "Python 3"
    },
    "language_info": {
      "name": "python"
    },
    "accelerator": "GPU"
  },
  "cells": [
    {
      "cell_type": "markdown",
      "source": [
        "Step 1: Imports"
      ],
      "metadata": {
        "id": "3YyL31h3n0u8"
      }
    },
    {
      "cell_type": "code",
      "source": [
        "! git clone https://github.com/niharikavadapalli/ERA-V1.git"
      ],
      "metadata": {
        "colab": {
          "base_uri": "https://localhost:8080/"
        },
        "id": "iBMwLPoYR_eU",
        "outputId": "5ec0a135-92d9-47ba-b41f-09e9987c3e0d"
      },
      "execution_count": 1,
      "outputs": [
        {
          "output_type": "stream",
          "name": "stdout",
          "text": [
            "Cloning into 'ERA-V1'...\n",
            "remote: Enumerating objects: 225, done.\u001b[K\n",
            "remote: Counting objects: 100% (5/5), done.\u001b[K\n",
            "remote: Compressing objects: 100% (5/5), done.\u001b[K\n",
            "remote: Total 225 (delta 0), reused 2 (delta 0), pack-reused 220\u001b[K\n",
            "Receiving objects: 100% (225/225), 1.65 MiB | 7.51 MiB/s, done.\n",
            "Resolving deltas: 100% (87/87), done.\n"
          ]
        }
      ]
    },
    {
      "cell_type": "code",
      "source": [
        "%cd \"/content/ERA-V1/ERA-V1-Session-9\"\n",
        "!pwd"
      ],
      "metadata": {
        "colab": {
          "base_uri": "https://localhost:8080/"
        },
        "id": "TjI1Qd2IY1SD",
        "outputId": "6dfd8703-4f98-404e-8e13-aebb0c0a5136"
      },
      "execution_count": 2,
      "outputs": [
        {
          "output_type": "stream",
          "name": "stdout",
          "text": [
            "/content/ERA-V1/ERA-V1-Session-9\n",
            "/content/ERA-V1/ERA-V1-Session-9\n"
          ]
        }
      ]
    },
    {
      "cell_type": "code",
      "execution_count": 16,
      "metadata": {
        "id": "cgTJpSgimZBw",
        "colab": {
          "base_uri": "https://localhost:8080/"
        },
        "outputId": "832b7329-7fd2-4f35-d2eb-fcb2d3a74fae"
      },
      "outputs": [
        {
          "output_type": "stream",
          "name": "stdout",
          "text": [
            "Requirement already satisfied: torchsummary in /usr/local/lib/python3.10/dist-packages (1.5.1)\n"
          ]
        }
      ],
      "source": [
        "from __future__ import print_function\n",
        "import torch\n",
        "import torch.nn as nn\n",
        "import torch.nn.functional as F\n",
        "import torch.optim as optim\n",
        "from torchvision import datasets, transforms\n",
        "from torchvision.utils import make_grid\n",
        "import matplotlib.pyplot as plt\n",
        "import albumentations as A\n",
        "from albumentations.pytorch import ToTensorV2\n",
        "\n",
        "from cifar10.model import Net\n",
        "from cifar10.backpropogation import test, train\n",
        "from cifar10.visualize import plot_misclassified_images, plot_network_performance, print_samples, print_data_stats, print_train_log\n",
        "from cifar10.backpropogation import train_losses, train_acc, test_losses, test_acc, incorrect_examples, incorrect_pred, incorrect_labels\n",
        "from cifar10.dataset import MyDataset\n",
        "from cifar10.transform import get_loaders\n",
        "\n",
        "!pip install torchsummary\n",
        "from torchsummary import summary"
      ]
    },
    {
      "cell_type": "markdown",
      "source": [
        "Step 2: Visualize and Prepare Data Transforms"
      ],
      "metadata": {
        "id": "JfpkHnBtqrjK"
      }
    },
    {
      "cell_type": "code",
      "source": [
        "cifar10 =  datasets.CIFAR10('./data', train=True, download=True)\n",
        "cifar10_val = datasets.CIFAR10('./data', train=False, download=True)\n",
        "img, label = cifar10[99]\n",
        "plt.imshow(img)\n",
        "plt.show()"
      ],
      "metadata": {
        "colab": {
          "base_uri": "https://localhost:8080/",
          "height": 499
        },
        "id": "WVUIse_7qmbA",
        "outputId": "ee9c2b66-4299-4879-d6d8-0b811fe46153"
      },
      "execution_count": 4,
      "outputs": [
        {
          "output_type": "stream",
          "name": "stdout",
          "text": [
            "Downloading https://www.cs.toronto.edu/~kriz/cifar-10-python.tar.gz to ./data/cifar-10-python.tar.gz\n"
          ]
        },
        {
          "output_type": "stream",
          "name": "stderr",
          "text": [
            "100%|██████████| 170498071/170498071 [00:04<00:00, 41662772.46it/s]\n"
          ]
        },
        {
          "output_type": "stream",
          "name": "stdout",
          "text": [
            "Extracting ./data/cifar-10-python.tar.gz to ./data\n",
            "Files already downloaded and verified\n"
          ]
        },
        {
          "output_type": "display_data",
          "data": {
            "text/plain": [
              "<Figure size 640x480 with 1 Axes>"
            ],
            "image/png": "[encoded data removed]"
          },
          "metadata": {}
        }
      ]
    },
    {
      "cell_type": "markdown",
      "source": [
        "Step 4: Creating data loaders"
      ],
      "metadata": {
        "id": "aKo51EIEpsrw"
      }
    },
    {
      "cell_type": "code",
      "source": [
        "SEED = 1\n",
        "\n",
        "cuda = torch.cuda.is_available()\n",
        "print(\"Is cuda available? \", cuda)\n",
        "\n",
        "#set the seed of the random number generator to a fixed value\n",
        "torch.manual_seed(SEED)\n",
        "\n",
        "if cuda:\n",
        "  torch.cuda.manual_seed(SEED)\n",
        "\n",
        "train_loader, test_loader = get_loaders(use_cuda=cuda)\n"
      ],
      "metadata": {
        "colab": {
          "base_uri": "https://localhost:8080/"
        },
        "id": "NOFryMSGpnDa",
        "outputId": "543b9e40-cdb0-4e6b-9ed5-015f3ade5df8"
      },
      "execution_count": 5,
      "outputs": [
        {
          "output_type": "stream",
          "name": "stdout",
          "text": [
            "Is cuda available?  True\n",
            "Downloading https://www.cs.toronto.edu/~kriz/cifar-10-python.tar.gz to ../data/cifar-10-python.tar.gz\n"
          ]
        },
        {
          "output_type": "stream",
          "name": "stderr",
          "text": [
            "100%|██████████| 170498071/170498071 [00:03<00:00, 48675089.77it/s]\n"
          ]
        },
        {
          "output_type": "stream",
          "name": "stdout",
          "text": [
            "Extracting ../data/cifar-10-python.tar.gz to ../data\n"
          ]
        },
        {
          "output_type": "stream",
          "name": "stderr",
          "text": [
            "/usr/local/lib/python3.10/dist-packages/torch/utils/data/dataloader.py:560: UserWarning: This DataLoader will create 4 worker processes in total. Our suggested max number of worker in current system is 2, which is smaller than what this DataLoader is going to create. Please be aware that excessive worker creation might get DataLoader running slow or even freeze, lower the worker number to avoid potential slowness/freeze if necessary.\n",
            "  warnings.warn(_create_warning_msg(\n"
          ]
        },
        {
          "output_type": "stream",
          "name": "stdout",
          "text": [
            "Files already downloaded and verified\n"
          ]
        }
      ]
    },
    {
      "cell_type": "code",
      "source": [
        "print_samples(train_loader)"
      ],
      "metadata": {
        "colab": {
          "base_uri": "https://localhost:8080/",
          "height": 671
        },
        "id": "k8mdvxfjj8wf",
        "outputId": "437425cd-d125-4320-c5fd-2cf4aef6d55a"
      },
      "execution_count": 6,
      "outputs": [
        {
          "output_type": "stream",
          "name": "stderr",
          "text": [
            "WARNING:matplotlib.image:Clipping input data to the valid range for imshow with RGB data ([0..1] for floats or [0..255] for integers).\n",
            "WARNING:matplotlib.image:Clipping input data to the valid range for imshow with RGB data ([0..1] for floats or [0..255] for integers).\n",
            "WARNING:matplotlib.image:Clipping input data to the valid range for imshow with RGB data ([0..1] for floats or [0..255] for integers).\n",
            "WARNING:matplotlib.image:Clipping input data to the valid range for imshow with RGB data ([0..1] for floats or [0..255] for integers).\n",
            "WARNING:matplotlib.image:Clipping input data to the valid range for imshow with RGB data ([0..1] for floats or [0..255] for integers).\n",
            "WARNING:matplotlib.image:Clipping input data to the valid range for imshow with RGB data ([0..1] for floats or [0..255] for integers).\n",
            "WARNING:matplotlib.image:Clipping input data to the valid range for imshow with RGB data ([0..1] for floats or [0..255] for integers).\n",
            "WARNING:matplotlib.image:Clipping input data to the valid range for imshow with RGB data ([0..1] for floats or [0..255] for integers).\n",
            "WARNING:matplotlib.image:Clipping input data to the valid range for imshow with RGB data ([0..1] for floats or [0..255] for integers).\n",
            "WARNING:matplotlib.image:Clipping input data to the valid range for imshow with RGB data ([0..1] for floats or [0..255] for integers).\n",
            "WARNING:matplotlib.image:Clipping input data to the valid range for imshow with RGB data ([0..1] for floats or [0..255] for integers).\n",
            "WARNING:matplotlib.image:Clipping input data to the valid range for imshow with RGB data ([0..1] for floats or [0..255] for integers).\n",
            "WARNING:matplotlib.image:Clipping input data to the valid range for imshow with RGB data ([0..1] for floats or [0..255] for integers).\n",
            "WARNING:matplotlib.image:Clipping input data to the valid range for imshow with RGB data ([0..1] for floats or [0..255] for integers).\n",
            "WARNING:matplotlib.image:Clipping input data to the valid range for imshow with RGB data ([0..1] for floats or [0..255] for integers).\n",
            "WARNING:matplotlib.image:Clipping input data to the valid range for imshow with RGB data ([0..1] for floats or [0..255] for integers).\n"
          ]
        },
        {
          "output_type": "display_data",
          "data": {
            "text/plain": [
              "<Figure size 1500x500 with 16 Axes>"
            ],
            "image/png": "[encoded data removed]"
          },
          "metadata": {}
        }
      ]
    },
    {
      "cell_type": "markdown",
      "source": [
        "Step 5: Data Stats"
      ],
      "metadata": {
        "id": "So_nIv1svcPZ"
      }
    },
    {
      "cell_type": "code",
      "source": [
        "print_data_stats(train_loader)"
      ],
      "metadata": {
        "colab": {
          "base_uri": "https://localhost:8080/"
        },
        "id": "y_11MBs8UxFs",
        "outputId": "774dbf10-ad7c-4b23-81f7-95f08ccbfb41"
      },
      "execution_count": 7,
      "outputs": [
        {
          "output_type": "stream",
          "name": "stdout",
          "text": [
            "{'horse': 5000, 'automobile': 5000, 'deer': 5000, 'ship': 5000, 'airplane': 5000, 'bird': 5000, 'dog': 5000, 'frog': 5000, 'cat': 5000, 'truck': 5000}\n"
          ]
        }
      ]
    },
    {
      "cell_type": "markdown",
      "source": [
        "Step 6: Model Creation and Display Parameters"
      ],
      "metadata": {
        "id": "cfVidaqJN9FG"
      }
    },
    {
      "cell_type": "code",
      "source": [
        "use_cuda = torch.cuda.is_available()\n",
        "device = torch.device(\"cuda\" if use_cuda else \"cpu\")\n",
        "print(device)\n",
        "\n",
        "model = Net().to(device)\n",
        "summary(model, input_size=(3,32,32))"
      ],
      "metadata": {
        "colab": {
          "base_uri": "https://localhost:8080/"
        },
        "id": "g5JSWB0xN6OR",
        "outputId": "6740ccc7-1b04-4892-ea18-dba063413ca5"
      },
      "execution_count": 8,
      "outputs": [
        {
          "output_type": "stream",
          "name": "stdout",
          "text": [
            "cuda\n",
            "----------------------------------------------------------------\n",
            "        Layer (type)               Output Shape         Param #\n",
            "================================================================\n",
            "            Conv2d-1           [-1, 32, 32, 32]             864\n",
            "       BatchNorm2d-2           [-1, 32, 32, 32]              64\n",
            "              ReLU-3           [-1, 32, 32, 32]               0\n",
            "           Dropout-4           [-1, 32, 32, 32]               0\n",
            "            Conv2d-5           [-1, 32, 32, 32]             288\n",
            "            Conv2d-6           [-1, 32, 32, 32]           1,024\n",
            "       BatchNorm2d-7           [-1, 32, 32, 32]              64\n",
            "              ReLU-8           [-1, 32, 32, 32]               0\n",
            "           Dropout-9           [-1, 32, 32, 32]               0\n",
            "           Conv2d-10           [-1, 32, 32, 32]           9,216\n",
            "      BatchNorm2d-11           [-1, 32, 32, 32]              64\n",
            "             ReLU-12           [-1, 32, 32, 32]               0\n",
            "          Dropout-13           [-1, 32, 32, 32]               0\n",
            "           Conv2d-14           [-1, 32, 32, 32]           9,216\n",
            "      BatchNorm2d-15           [-1, 32, 32, 32]              64\n",
            "             ReLU-16           [-1, 32, 32, 32]               0\n",
            "          Dropout-17           [-1, 32, 32, 32]               0\n",
            "           Conv2d-18           [-1, 32, 32, 32]           9,216\n",
            "      BatchNorm2d-19           [-1, 32, 32, 32]              64\n",
            "             ReLU-20           [-1, 32, 32, 32]               0\n",
            "          Dropout-21           [-1, 32, 32, 32]               0\n",
            "           Conv2d-22           [-1, 32, 30, 30]           9,216\n",
            "      BatchNorm2d-23           [-1, 32, 30, 30]              64\n",
            "             ReLU-24           [-1, 32, 30, 30]               0\n",
            "          Dropout-25           [-1, 32, 30, 30]               0\n",
            "           Conv2d-26           [-1, 32, 30, 30]           9,216\n",
            "      BatchNorm2d-27           [-1, 32, 30, 30]              64\n",
            "             ReLU-28           [-1, 32, 30, 30]               0\n",
            "          Dropout-29           [-1, 32, 30, 30]               0\n",
            "           Conv2d-30           [-1, 32, 30, 30]             288\n",
            "           Conv2d-31           [-1, 32, 30, 30]           1,024\n",
            "      BatchNorm2d-32           [-1, 32, 30, 30]              64\n",
            "             ReLU-33           [-1, 32, 30, 30]               0\n",
            "          Dropout-34           [-1, 32, 30, 30]               0\n",
            "           Conv2d-35           [-1, 32, 30, 30]           9,216\n",
            "      BatchNorm2d-36           [-1, 32, 30, 30]              64\n",
            "             ReLU-37           [-1, 32, 30, 30]               0\n",
            "          Dropout-38           [-1, 32, 30, 30]               0\n",
            "           Conv2d-39           [-1, 32, 30, 30]           9,216\n",
            "      BatchNorm2d-40           [-1, 32, 30, 30]              64\n",
            "             ReLU-41           [-1, 32, 30, 30]               0\n",
            "          Dropout-42           [-1, 32, 30, 30]               0\n",
            "           Conv2d-43           [-1, 32, 30, 30]           9,216\n",
            "      BatchNorm2d-44           [-1, 32, 30, 30]              64\n",
            "             ReLU-45           [-1, 32, 30, 30]               0\n",
            "          Dropout-46           [-1, 32, 30, 30]               0\n",
            "           Conv2d-47           [-1, 32, 28, 28]           9,216\n",
            "      BatchNorm2d-48           [-1, 32, 28, 28]              64\n",
            "             ReLU-49           [-1, 32, 28, 28]               0\n",
            "          Dropout-50           [-1, 32, 28, 28]               0\n",
            "           Conv2d-51           [-1, 32, 28, 28]           9,216\n",
            "      BatchNorm2d-52           [-1, 32, 28, 28]              64\n",
            "             ReLU-53           [-1, 32, 28, 28]               0\n",
            "          Dropout-54           [-1, 32, 28, 28]               0\n",
            "           Conv2d-55           [-1, 32, 28, 28]             288\n",
            "           Conv2d-56           [-1, 32, 28, 28]           1,024\n",
            "      BatchNorm2d-57           [-1, 32, 28, 28]              64\n",
            "             ReLU-58           [-1, 32, 28, 28]               0\n",
            "          Dropout-59           [-1, 32, 28, 28]               0\n",
            "           Conv2d-60           [-1, 32, 28, 28]           9,216\n",
            "      BatchNorm2d-61           [-1, 32, 28, 28]              64\n",
            "             ReLU-62           [-1, 32, 28, 28]               0\n",
            "          Dropout-63           [-1, 32, 28, 28]               0\n",
            "           Conv2d-64           [-1, 32, 28, 28]           9,216\n",
            "      BatchNorm2d-65           [-1, 32, 28, 28]              64\n",
            "             ReLU-66           [-1, 32, 28, 28]               0\n",
            "          Dropout-67           [-1, 32, 28, 28]               0\n",
            "           Conv2d-68           [-1, 32, 28, 28]           9,216\n",
            "      BatchNorm2d-69           [-1, 32, 28, 28]              64\n",
            "             ReLU-70           [-1, 32, 28, 28]               0\n",
            "          Dropout-71           [-1, 32, 28, 28]               0\n",
            "           Conv2d-72           [-1, 32, 26, 26]           9,216\n",
            "      BatchNorm2d-73           [-1, 32, 26, 26]              64\n",
            "             ReLU-74           [-1, 32, 26, 26]               0\n",
            "          Dropout-75           [-1, 32, 26, 26]               0\n",
            "           Conv2d-76           [-1, 32, 26, 26]           9,216\n",
            "      BatchNorm2d-77           [-1, 32, 26, 26]              64\n",
            "             ReLU-78           [-1, 32, 26, 26]               0\n",
            "          Dropout-79           [-1, 32, 26, 26]               0\n",
            "           Conv2d-80           [-1, 32, 26, 26]             288\n",
            "           Conv2d-81           [-1, 32, 26, 26]           1,024\n",
            "      BatchNorm2d-82           [-1, 32, 26, 26]              64\n",
            "             ReLU-83           [-1, 32, 26, 26]               0\n",
            "          Dropout-84           [-1, 32, 26, 26]               0\n",
            "           Conv2d-85           [-1, 32, 26, 26]           9,216\n",
            "      BatchNorm2d-86           [-1, 32, 26, 26]              64\n",
            "             ReLU-87           [-1, 32, 26, 26]               0\n",
            "          Dropout-88           [-1, 32, 26, 26]               0\n",
            "           Conv2d-89           [-1, 64, 26, 26]          18,432\n",
            "      BatchNorm2d-90           [-1, 64, 26, 26]             128\n",
            "             ReLU-91           [-1, 64, 26, 26]               0\n",
            "          Dropout-92           [-1, 64, 26, 26]               0\n",
            "           Conv2d-93           [-1, 64, 26, 26]          18,432\n",
            "      BatchNorm2d-94           [-1, 64, 26, 26]             128\n",
            "             ReLU-95           [-1, 64, 26, 26]               0\n",
            "          Dropout-96           [-1, 64, 26, 26]               0\n",
            "AdaptiveAvgPool2d-97             [-1, 64, 1, 1]               0\n",
            "           Conv2d-98             [-1, 10, 1, 1]             640\n",
            "================================================================\n",
            "Total params: 192,672\n",
            "Trainable params: 192,672\n",
            "Non-trainable params: 0\n",
            "----------------------------------------------------------------\n",
            "Input size (MB): 0.01\n",
            "Forward/backward pass size (MB): 20.98\n",
            "Params size (MB): 0.73\n",
            "Estimated Total Size (MB): 21.72\n",
            "----------------------------------------------------------------\n"
          ]
        }
      ]
    },
    {
      "cell_type": "markdown",
      "source": [
        "Step 7: Training the model"
      ],
      "metadata": {
        "id": "De-tygcWYAt_"
      }
    },
    {
      "cell_type": "code",
      "source": [
        "optimizer = optim.SGD(model.parameters(), lr=0.01, momentum=0.9)\n",
        "scheduler = optim.lr_scheduler.ReduceLROnPlateau(optimizer, mode='min', factor=0.05, patience=5, threshold=0.1, verbose=True)\n",
        "EPOCHS = 51\n",
        "\n",
        "train_acc.clear()\n",
        "test_acc.clear()\n",
        "train_losses.clear()\n",
        "test_losses.clear()\n",
        "incorrect_examples.clear()\n",
        "incorrect_labels.clear()\n",
        "incorrect_pred.clear()\n",
        "learning_rates = []\n",
        "\n",
        "for epoch in range(EPOCHS):\n",
        "    print(\"EPOCH:\", epoch)\n",
        "    train(model, device, train_loader, optimizer, epoch)\n",
        "    test(model, device, test_loader)\n",
        "    scheduler.step(test_losses[-1])\n",
        "    learning_rates.append(optimizer.param_groups[0]['lr'])\n",
        "    print(f\"\\n current learing rate is {optimizer.param_groups[0]['lr']}\")\n",
        "    print(f\"\\n last test loss is {test_losses[-1]}\")"
      ],
      "metadata": {
        "colab": {
          "base_uri": "https://localhost:8080/"
        },
        "id": "WvQDgW20X8m7",
        "outputId": "3d0c3c8a-19a9-492e-92aa-175be21a5a37"
      },
      "execution_count": 9,
      "outputs": [
        {
          "output_type": "stream",
          "name": "stdout",
          "text": [
            "EPOCH: 0\n"
          ]
        },
        {
          "output_type": "stream",
          "name": "stderr",
          "text": [
            "Loss=1.2733958959579468 Batch_id=390 Accuracy=38.5240: 100%|██████████| 391/391 [00:44<00:00,  8.70it/s]\n"
          ]
        },
        {
          "output_type": "stream",
          "name": "stdout",
          "text": [
            "\n",
            "Test set: Average loss: 1.4523, Accuracy: 4501/10000 (45.0100%)\n",
            "\n",
            "\n",
            " current learing rate is 0.01\n",
            "\n",
            " last test loss is 1.452338932991028\n",
            "EPOCH: 1\n"
          ]
        },
        {
          "output_type": "stream",
          "name": "stderr",
          "text": [
            "Loss=1.178593397140503 Batch_id=390 Accuracy=52.2120: 100%|██████████| 391/391 [00:45<00:00,  8.65it/s]\n"
          ]
        },
        {
          "output_type": "stream",
          "name": "stdout",
          "text": [
            "\n",
            "Test set: Average loss: 1.2720, Accuracy: 5671/10000 (56.7100%)\n",
            "\n",
            "\n",
            " current learing rate is 0.01\n",
            "\n",
            " last test loss is 1.2719777851104737\n",
            "EPOCH: 2\n"
          ]
        },
        {
          "output_type": "stream",
          "name": "stderr",
          "text": [
            "Loss=1.109086275100708 Batch_id=390 Accuracy=58.6800: 100%|██████████| 391/391 [00:44<00:00,  8.75it/s]\n"
          ]
        },
        {
          "output_type": "stream",
          "name": "stdout",
          "text": [
            "\n",
            "Test set: Average loss: 1.0783, Accuracy: 6219/10000 (62.1900%)\n",
            "\n",
            "\n",
            " current learing rate is 0.01\n",
            "\n",
            " last test loss is 1.0783035789489746\n",
            "EPOCH: 3\n"
          ]
        },
        {
          "output_type": "stream",
          "name": "stderr",
          "text": [
            "Loss=0.9122532606124878 Batch_id=390 Accuracy=63.1840: 100%|██████████| 391/391 [00:44<00:00,  8.76it/s]\n"
          ]
        },
        {
          "output_type": "stream",
          "name": "stdout",
          "text": [
            "\n",
            "Test set: Average loss: 0.8439, Accuracy: 7019/10000 (70.1900%)\n",
            "\n",
            "\n",
            " current learing rate is 0.01\n",
            "\n",
            " last test loss is 0.8439280265808106\n",
            "EPOCH: 4\n"
          ]
        },
        {
          "output_type": "stream",
          "name": "stderr",
          "text": [
            "Loss=1.1716467142105103 Batch_id=390 Accuracy=66.2900: 100%|██████████| 391/391 [00:44<00:00,  8.80it/s]\n"
          ]
        },
        {
          "output_type": "stream",
          "name": "stdout",
          "text": [
            "\n",
            "Test set: Average loss: 0.8380, Accuracy: 7050/10000 (70.5000%)\n",
            "\n",
            "\n",
            " current learing rate is 0.01\n",
            "\n",
            " last test loss is 0.8380442378044128\n",
            "EPOCH: 5\n"
          ]
        },
        {
          "output_type": "stream",
          "name": "stderr",
          "text": [
            "Loss=0.7730362415313721 Batch_id=390 Accuracy=68.6340: 100%|██████████| 391/391 [00:45<00:00,  8.68it/s]\n"
          ]
        },
        {
          "output_type": "stream",
          "name": "stdout",
          "text": [
            "\n",
            "Test set: Average loss: 0.9163, Accuracy: 7008/10000 (70.0800%)\n",
            "\n",
            "\n",
            " current learing rate is 0.01\n",
            "\n",
            " last test loss is 0.9163336563110351\n",
            "EPOCH: 6\n"
          ]
        },
        {
          "output_type": "stream",
          "name": "stderr",
          "text": [
            "Loss=0.8748084306716919 Batch_id=390 Accuracy=70.2860: 100%|██████████| 391/391 [00:44<00:00,  8.76it/s]\n"
          ]
        },
        {
          "output_type": "stream",
          "name": "stdout",
          "text": [
            "\n",
            "Test set: Average loss: 0.7922, Accuracy: 7334/10000 (73.3400%)\n",
            "\n",
            "\n",
            " current learing rate is 0.01\n",
            "\n",
            " last test loss is 0.7921997034072876\n",
            "EPOCH: 7\n"
          ]
        },
        {
          "output_type": "stream",
          "name": "stderr",
          "text": [
            "Loss=0.740784227848053 Batch_id=390 Accuracy=71.7120: 100%|██████████| 391/391 [00:44<00:00,  8.70it/s]\n"
          ]
        },
        {
          "output_type": "stream",
          "name": "stdout",
          "text": [
            "\n",
            "Test set: Average loss: 0.7648, Accuracy: 7450/10000 (74.5000%)\n",
            "\n",
            "\n",
            " current learing rate is 0.01\n",
            "\n",
            " last test loss is 0.7647909292221069\n",
            "EPOCH: 8\n"
          ]
        },
        {
          "output_type": "stream",
          "name": "stderr",
          "text": [
            "Loss=0.7673342227935791 Batch_id=390 Accuracy=72.7880: 100%|██████████| 391/391 [00:44<00:00,  8.78it/s]\n"
          ]
        },
        {
          "output_type": "stream",
          "name": "stdout",
          "text": [
            "\n",
            "Test set: Average loss: 0.7330, Accuracy: 7517/10000 (75.1700%)\n",
            "\n",
            "\n",
            " current learing rate is 0.01\n",
            "\n",
            " last test loss is 0.7330041590213776\n",
            "EPOCH: 9\n"
          ]
        },
        {
          "output_type": "stream",
          "name": "stderr",
          "text": [
            "Loss=0.7539153099060059 Batch_id=390 Accuracy=73.6780: 100%|██████████| 391/391 [00:44<00:00,  8.79it/s]\n"
          ]
        },
        {
          "output_type": "stream",
          "name": "stdout",
          "text": [
            "\n",
            "Test set: Average loss: 0.7773, Accuracy: 7384/10000 (73.8400%)\n",
            "\n",
            "\n",
            " current learing rate is 0.01\n",
            "\n",
            " last test loss is 0.7773344834327698\n",
            "EPOCH: 10\n"
          ]
        },
        {
          "output_type": "stream",
          "name": "stderr",
          "text": [
            "Loss=0.8420197367668152 Batch_id=390 Accuracy=74.6280: 100%|██████████| 391/391 [00:44<00:00,  8.76it/s]\n"
          ]
        },
        {
          "output_type": "stream",
          "name": "stdout",
          "text": [
            "\n",
            "Test set: Average loss: 0.6931, Accuracy: 7646/10000 (76.4600%)\n",
            "\n",
            "\n",
            " current learing rate is 0.01\n",
            "\n",
            " last test loss is 0.6930675988197327\n",
            "EPOCH: 11\n"
          ]
        },
        {
          "output_type": "stream",
          "name": "stderr",
          "text": [
            "Loss=0.7642430067062378 Batch_id=390 Accuracy=75.1940: 100%|██████████| 391/391 [00:44<00:00,  8.78it/s]\n"
          ]
        },
        {
          "output_type": "stream",
          "name": "stdout",
          "text": [
            "\n",
            "Test set: Average loss: 0.6060, Accuracy: 7943/10000 (79.4300%)\n",
            "\n",
            "\n",
            " current learing rate is 0.01\n",
            "\n",
            " last test loss is 0.6059759590148925\n",
            "EPOCH: 12\n"
          ]
        },
        {
          "output_type": "stream",
          "name": "stderr",
          "text": [
            "Loss=0.640214204788208 Batch_id=390 Accuracy=75.6680: 100%|██████████| 391/391 [00:44<00:00,  8.83it/s]\n"
          ]
        },
        {
          "output_type": "stream",
          "name": "stdout",
          "text": [
            "\n",
            "Test set: Average loss: 0.6278, Accuracy: 7867/10000 (78.6700%)\n",
            "\n",
            "\n",
            " current learing rate is 0.01\n",
            "\n",
            " last test loss is 0.6277865407466888\n",
            "EPOCH: 13\n"
          ]
        },
        {
          "output_type": "stream",
          "name": "stderr",
          "text": [
            "Loss=0.5948001742362976 Batch_id=390 Accuracy=76.5980: 100%|██████████| 391/391 [00:44<00:00,  8.73it/s]\n"
          ]
        },
        {
          "output_type": "stream",
          "name": "stdout",
          "text": [
            "\n",
            "Test set: Average loss: 0.5477, Accuracy: 8136/10000 (81.3600%)\n",
            "\n",
            "\n",
            " current learing rate is 0.01\n",
            "\n",
            " last test loss is 0.5476945615768433\n",
            "EPOCH: 14\n"
          ]
        },
        {
          "output_type": "stream",
          "name": "stderr",
          "text": [
            "Loss=0.7143434286117554 Batch_id=390 Accuracy=76.8580: 100%|██████████| 391/391 [00:44<00:00,  8.82it/s]\n"
          ]
        },
        {
          "output_type": "stream",
          "name": "stdout",
          "text": [
            "\n",
            "Test set: Average loss: 0.6663, Accuracy: 7791/10000 (77.9100%)\n",
            "\n",
            "\n",
            " current learing rate is 0.01\n",
            "\n",
            " last test loss is 0.6662568824768066\n",
            "EPOCH: 15\n"
          ]
        },
        {
          "output_type": "stream",
          "name": "stderr",
          "text": [
            "Loss=0.7801986336708069 Batch_id=390 Accuracy=77.3540: 100%|██████████| 391/391 [00:44<00:00,  8.73it/s]\n"
          ]
        },
        {
          "output_type": "stream",
          "name": "stdout",
          "text": [
            "\n",
            "Test set: Average loss: 0.5549, Accuracy: 8083/10000 (80.8300%)\n",
            "\n",
            "\n",
            " current learing rate is 0.01\n",
            "\n",
            " last test loss is 0.5549085299968719\n",
            "EPOCH: 16\n"
          ]
        },
        {
          "output_type": "stream",
          "name": "stderr",
          "text": [
            "Loss=0.50658118724823 Batch_id=390 Accuracy=77.9780: 100%|██████████| 391/391 [00:44<00:00,  8.74it/s]\n"
          ]
        },
        {
          "output_type": "stream",
          "name": "stdout",
          "text": [
            "\n",
            "Test set: Average loss: 0.5372, Accuracy: 8153/10000 (81.5300%)\n",
            "\n",
            "\n",
            " current learing rate is 0.01\n",
            "\n",
            " last test loss is 0.5372133618354797\n",
            "EPOCH: 17\n"
          ]
        },
        {
          "output_type": "stream",
          "name": "stderr",
          "text": [
            "Loss=0.8257570266723633 Batch_id=390 Accuracy=78.4000: 100%|██████████| 391/391 [00:44<00:00,  8.79it/s]\n"
          ]
        },
        {
          "output_type": "stream",
          "name": "stdout",
          "text": [
            "\n",
            "Test set: Average loss: 0.5675, Accuracy: 8073/10000 (80.7300%)\n",
            "\n",
            "\n",
            " current learing rate is 0.01\n",
            "\n",
            " last test loss is 0.5675360990524292\n",
            "EPOCH: 18\n"
          ]
        },
        {
          "output_type": "stream",
          "name": "stderr",
          "text": [
            "Loss=0.7576802968978882 Batch_id=390 Accuracy=78.7740: 100%|██████████| 391/391 [00:44<00:00,  8.78it/s]\n"
          ]
        },
        {
          "output_type": "stream",
          "name": "stdout",
          "text": [
            "\n",
            "Test set: Average loss: 0.5688, Accuracy: 8053/10000 (80.5300%)\n",
            "\n",
            "\n",
            " current learing rate is 0.01\n",
            "\n",
            " last test loss is 0.5688079416275025\n",
            "EPOCH: 19\n"
          ]
        },
        {
          "output_type": "stream",
          "name": "stderr",
          "text": [
            "Loss=0.6850989460945129 Batch_id=390 Accuracy=79.1140: 100%|██████████| 391/391 [00:44<00:00,  8.75it/s]\n"
          ]
        },
        {
          "output_type": "stream",
          "name": "stdout",
          "text": [
            "\n",
            "Test set: Average loss: 0.4966, Accuracy: 8295/10000 (82.9500%)\n",
            "\n",
            "\n",
            " current learing rate is 0.01\n",
            "\n",
            " last test loss is 0.4965551799297333\n",
            "EPOCH: 20\n"
          ]
        },
        {
          "output_type": "stream",
          "name": "stderr",
          "text": [
            "Loss=0.6298916935920715 Batch_id=390 Accuracy=79.4160: 100%|██████████| 391/391 [00:45<00:00,  8.60it/s]\n"
          ]
        },
        {
          "output_type": "stream",
          "name": "stdout",
          "text": [
            "\n",
            "Test set: Average loss: 0.5683, Accuracy: 8131/10000 (81.3100%)\n",
            "\n",
            "\n",
            " current learing rate is 0.01\n",
            "\n",
            " last test loss is 0.568330622291565\n",
            "EPOCH: 21\n"
          ]
        },
        {
          "output_type": "stream",
          "name": "stderr",
          "text": [
            "Loss=0.9253700375556946 Batch_id=390 Accuracy=79.8940: 100%|██████████| 391/391 [00:44<00:00,  8.73it/s]\n"
          ]
        },
        {
          "output_type": "stream",
          "name": "stdout",
          "text": [
            "\n",
            "Test set: Average loss: 0.6490, Accuracy: 7851/10000 (78.5100%)\n",
            "\n",
            "\n",
            " current learing rate is 0.01\n",
            "\n",
            " last test loss is 0.6490377263069153\n",
            "EPOCH: 22\n"
          ]
        },
        {
          "output_type": "stream",
          "name": "stderr",
          "text": [
            "Loss=0.4762056767940521 Batch_id=390 Accuracy=80.0600: 100%|██████████| 391/391 [00:45<00:00,  8.66it/s]\n"
          ]
        },
        {
          "output_type": "stream",
          "name": "stdout",
          "text": [
            "\n",
            "Test set: Average loss: 0.4752, Accuracy: 8399/10000 (83.9900%)\n",
            "\n",
            "\n",
            " current learing rate is 0.01\n",
            "\n",
            " last test loss is 0.4752272161960602\n",
            "EPOCH: 23\n"
          ]
        },
        {
          "output_type": "stream",
          "name": "stderr",
          "text": [
            "Loss=0.4119819104671478 Batch_id=390 Accuracy=80.2060: 100%|██████████| 391/391 [00:44<00:00,  8.72it/s]\n"
          ]
        },
        {
          "output_type": "stream",
          "name": "stdout",
          "text": [
            "\n",
            "Test set: Average loss: 0.5231, Accuracy: 8248/10000 (82.4800%)\n",
            "\n",
            "\n",
            " current learing rate is 0.01\n",
            "\n",
            " last test loss is 0.5230688549041748\n",
            "EPOCH: 24\n"
          ]
        },
        {
          "output_type": "stream",
          "name": "stderr",
          "text": [
            "Loss=0.28794020414352417 Batch_id=390 Accuracy=80.7800: 100%|██████████| 391/391 [00:44<00:00,  8.76it/s]\n"
          ]
        },
        {
          "output_type": "stream",
          "name": "stdout",
          "text": [
            "\n",
            "Test set: Average loss: 0.4829, Accuracy: 8365/10000 (83.6500%)\n",
            "\n",
            "\n",
            " current learing rate is 0.01\n",
            "\n",
            " last test loss is 0.4828719594478607\n",
            "EPOCH: 25\n"
          ]
        },
        {
          "output_type": "stream",
          "name": "stderr",
          "text": [
            "Loss=0.7253627181053162 Batch_id=390 Accuracy=81.0120: 100%|██████████| 391/391 [00:44<00:00,  8.80it/s]\n"
          ]
        },
        {
          "output_type": "stream",
          "name": "stdout",
          "text": [
            "\n",
            "Test set: Average loss: 0.5038, Accuracy: 8328/10000 (83.2800%)\n",
            "\n",
            "\n",
            " current learing rate is 0.01\n",
            "\n",
            " last test loss is 0.5037552373886108\n",
            "EPOCH: 26\n"
          ]
        },
        {
          "output_type": "stream",
          "name": "stderr",
          "text": [
            "Loss=0.5784353017807007 Batch_id=390 Accuracy=81.0220: 100%|██████████| 391/391 [00:44<00:00,  8.75it/s]\n"
          ]
        },
        {
          "output_type": "stream",
          "name": "stdout",
          "text": [
            "\n",
            "Test set: Average loss: 0.5074, Accuracy: 8344/10000 (83.4400%)\n",
            "\n",
            "\n",
            " current learing rate is 0.01\n",
            "\n",
            " last test loss is 0.5074212964057923\n",
            "EPOCH: 27\n"
          ]
        },
        {
          "output_type": "stream",
          "name": "stderr",
          "text": [
            "Loss=0.527173638343811 Batch_id=390 Accuracy=81.4320: 100%|██████████| 391/391 [00:44<00:00,  8.75it/s]\n"
          ]
        },
        {
          "output_type": "stream",
          "name": "stdout",
          "text": [
            "\n",
            "Test set: Average loss: 0.5025, Accuracy: 8383/10000 (83.8300%)\n",
            "\n",
            "\n",
            " current learing rate is 0.01\n",
            "\n",
            " last test loss is 0.5024746782302857\n",
            "EPOCH: 28\n"
          ]
        },
        {
          "output_type": "stream",
          "name": "stderr",
          "text": [
            "Loss=0.7757876515388489 Batch_id=390 Accuracy=81.5400: 100%|██████████| 391/391 [00:44<00:00,  8.80it/s]\n"
          ]
        },
        {
          "output_type": "stream",
          "name": "stdout",
          "text": [
            "\n",
            "Test set: Average loss: 0.4567, Accuracy: 8449/10000 (84.4900%)\n",
            "\n",
            "Epoch 00029: reducing learning rate of group 0 to 5.0000e-04.\n",
            "\n",
            " current learing rate is 0.0005\n",
            "\n",
            " last test loss is 0.4567032250404358\n",
            "EPOCH: 29\n"
          ]
        },
        {
          "output_type": "stream",
          "name": "stderr",
          "text": [
            "Loss=0.3775995969772339 Batch_id=390 Accuracy=83.4680: 100%|██████████| 391/391 [00:44<00:00,  8.75it/s]\n"
          ]
        },
        {
          "output_type": "stream",
          "name": "stdout",
          "text": [
            "\n",
            "Test set: Average loss: 0.3932, Accuracy: 8651/10000 (86.5100%)\n",
            "\n",
            "\n",
            " current learing rate is 0.0005\n",
            "\n",
            " last test loss is 0.3931704606533051\n",
            "EPOCH: 30\n"
          ]
        },
        {
          "output_type": "stream",
          "name": "stderr",
          "text": [
            "Loss=0.7148905992507935 Batch_id=390 Accuracy=83.8620: 100%|██████████| 391/391 [00:44<00:00,  8.74it/s]\n"
          ]
        },
        {
          "output_type": "stream",
          "name": "stdout",
          "text": [
            "\n",
            "Test set: Average loss: 0.3895, Accuracy: 8684/10000 (86.8400%)\n",
            "\n",
            "\n",
            " current learing rate is 0.0005\n",
            "\n",
            " last test loss is 0.38952925395965576\n",
            "EPOCH: 31\n"
          ]
        },
        {
          "output_type": "stream",
          "name": "stderr",
          "text": [
            "Loss=0.36935925483703613 Batch_id=390 Accuracy=84.2020: 100%|██████████| 391/391 [00:44<00:00,  8.74it/s]\n"
          ]
        },
        {
          "output_type": "stream",
          "name": "stdout",
          "text": [
            "\n",
            "Test set: Average loss: 0.3882, Accuracy: 8690/10000 (86.9000%)\n",
            "\n",
            "\n",
            " current learing rate is 0.0005\n",
            "\n",
            " last test loss is 0.38819859031438825\n",
            "EPOCH: 32\n"
          ]
        },
        {
          "output_type": "stream",
          "name": "stderr",
          "text": [
            "Loss=0.6572709083557129 Batch_id=390 Accuracy=84.1920: 100%|██████████| 391/391 [00:44<00:00,  8.76it/s]\n"
          ]
        },
        {
          "output_type": "stream",
          "name": "stdout",
          "text": [
            "\n",
            "Test set: Average loss: 0.3853, Accuracy: 8719/10000 (87.1900%)\n",
            "\n",
            "\n",
            " current learing rate is 0.0005\n",
            "\n",
            " last test loss is 0.3853359363079071\n",
            "EPOCH: 33\n"
          ]
        },
        {
          "output_type": "stream",
          "name": "stderr",
          "text": [
            "Loss=0.33571022748947144 Batch_id=390 Accuracy=84.2340: 100%|██████████| 391/391 [00:44<00:00,  8.75it/s]\n"
          ]
        },
        {
          "output_type": "stream",
          "name": "stdout",
          "text": [
            "\n",
            "Test set: Average loss: 0.3865, Accuracy: 8715/10000 (87.1500%)\n",
            "\n",
            "\n",
            " current learing rate is 0.0005\n",
            "\n",
            " last test loss is 0.38651715869903563\n",
            "EPOCH: 34\n"
          ]
        },
        {
          "output_type": "stream",
          "name": "stderr",
          "text": [
            "Loss=0.45837870240211487 Batch_id=390 Accuracy=84.3780: 100%|██████████| 391/391 [00:45<00:00,  8.68it/s]\n"
          ]
        },
        {
          "output_type": "stream",
          "name": "stdout",
          "text": [
            "\n",
            "Test set: Average loss: 0.3846, Accuracy: 8710/10000 (87.1000%)\n",
            "\n",
            "\n",
            " current learing rate is 0.0005\n",
            "\n",
            " last test loss is 0.38459192829132083\n",
            "EPOCH: 35\n"
          ]
        },
        {
          "output_type": "stream",
          "name": "stderr",
          "text": [
            "Loss=0.48107266426086426 Batch_id=390 Accuracy=84.4380: 100%|██████████| 391/391 [00:44<00:00,  8.72it/s]\n"
          ]
        },
        {
          "output_type": "stream",
          "name": "stdout",
          "text": [
            "\n",
            "Test set: Average loss: 0.3842, Accuracy: 8727/10000 (87.2700%)\n",
            "\n",
            "Epoch 00036: reducing learning rate of group 0 to 2.5000e-05.\n",
            "\n",
            " current learing rate is 2.5e-05\n",
            "\n",
            " last test loss is 0.38417966945171356\n",
            "EPOCH: 36\n"
          ]
        },
        {
          "output_type": "stream",
          "name": "stderr",
          "text": [
            "Loss=0.3781912922859192 Batch_id=390 Accuracy=84.5260: 100%|██████████| 391/391 [00:44<00:00,  8.78it/s]\n"
          ]
        },
        {
          "output_type": "stream",
          "name": "stdout",
          "text": [
            "\n",
            "Test set: Average loss: 0.3849, Accuracy: 8712/10000 (87.1200%)\n",
            "\n",
            "\n",
            " current learing rate is 2.5e-05\n",
            "\n",
            " last test loss is 0.384937237906456\n",
            "EPOCH: 37\n"
          ]
        },
        {
          "output_type": "stream",
          "name": "stderr",
          "text": [
            "Loss=0.4187929034233093 Batch_id=390 Accuracy=84.3460: 100%|██████████| 391/391 [00:45<00:00,  8.66it/s]\n"
          ]
        },
        {
          "output_type": "stream",
          "name": "stdout",
          "text": [
            "\n",
            "Test set: Average loss: 0.3853, Accuracy: 8729/10000 (87.2900%)\n",
            "\n",
            "\n",
            " current learing rate is 2.5e-05\n",
            "\n",
            " last test loss is 0.3852847138881683\n",
            "EPOCH: 38\n"
          ]
        },
        {
          "output_type": "stream",
          "name": "stderr",
          "text": [
            "Loss=0.33602961897850037 Batch_id=390 Accuracy=84.6760: 100%|██████████| 391/391 [00:44<00:00,  8.76it/s]\n"
          ]
        },
        {
          "output_type": "stream",
          "name": "stdout",
          "text": [
            "\n",
            "Test set: Average loss: 0.3848, Accuracy: 8730/10000 (87.3000%)\n",
            "\n",
            "\n",
            " current learing rate is 2.5e-05\n",
            "\n",
            " last test loss is 0.38483812103271486\n",
            "EPOCH: 39\n"
          ]
        },
        {
          "output_type": "stream",
          "name": "stderr",
          "text": [
            "Loss=0.565872073173523 Batch_id=390 Accuracy=84.6360: 100%|██████████| 391/391 [00:44<00:00,  8.73it/s]\n"
          ]
        },
        {
          "output_type": "stream",
          "name": "stdout",
          "text": [
            "\n",
            "Test set: Average loss: 0.3841, Accuracy: 8724/10000 (87.2400%)\n",
            "\n",
            "\n",
            " current learing rate is 2.5e-05\n",
            "\n",
            " last test loss is 0.38405027747154236\n",
            "EPOCH: 40\n"
          ]
        },
        {
          "output_type": "stream",
          "name": "stderr",
          "text": [
            "Loss=0.3872388005256653 Batch_id=390 Accuracy=84.2300: 100%|██████████| 391/391 [00:44<00:00,  8.69it/s]\n"
          ]
        },
        {
          "output_type": "stream",
          "name": "stdout",
          "text": [
            "\n",
            "Test set: Average loss: 0.3843, Accuracy: 8718/10000 (87.1800%)\n",
            "\n",
            "\n",
            " current learing rate is 2.5e-05\n",
            "\n",
            " last test loss is 0.38425540370941164\n",
            "EPOCH: 41\n"
          ]
        },
        {
          "output_type": "stream",
          "name": "stderr",
          "text": [
            "Loss=0.5451887845993042 Batch_id=390 Accuracy=84.5080: 100%|██████████| 391/391 [00:44<00:00,  8.74it/s]\n"
          ]
        },
        {
          "output_type": "stream",
          "name": "stdout",
          "text": [
            "\n",
            "Test set: Average loss: 0.3835, Accuracy: 8724/10000 (87.2400%)\n",
            "\n",
            "Epoch 00042: reducing learning rate of group 0 to 1.2500e-06.\n",
            "\n",
            " current learing rate is 1.25e-06\n",
            "\n",
            " last test loss is 0.3834615901470184\n",
            "EPOCH: 42\n"
          ]
        },
        {
          "output_type": "stream",
          "name": "stderr",
          "text": [
            "Loss=0.5389851927757263 Batch_id=390 Accuracy=84.6900: 100%|██████████| 391/391 [00:44<00:00,  8.71it/s]\n"
          ]
        },
        {
          "output_type": "stream",
          "name": "stdout",
          "text": [
            "\n",
            "Test set: Average loss: 0.3825, Accuracy: 8739/10000 (87.3900%)\n",
            "\n",
            "\n",
            " current learing rate is 1.25e-06\n",
            "\n",
            " last test loss is 0.3824846903800964\n",
            "EPOCH: 43\n"
          ]
        },
        {
          "output_type": "stream",
          "name": "stderr",
          "text": [
            "Loss=0.2557574510574341 Batch_id=390 Accuracy=84.3520: 100%|██████████| 391/391 [00:45<00:00,  8.68it/s]\n"
          ]
        },
        {
          "output_type": "stream",
          "name": "stdout",
          "text": [
            "\n",
            "Test set: Average loss: 0.3846, Accuracy: 8711/10000 (87.1100%)\n",
            "\n",
            "\n",
            " current learing rate is 1.25e-06\n",
            "\n",
            " last test loss is 0.38457950127124785\n",
            "EPOCH: 44\n"
          ]
        },
        {
          "output_type": "stream",
          "name": "stderr",
          "text": [
            "Loss=0.5818952918052673 Batch_id=390 Accuracy=84.4460: 100%|██████████| 391/391 [00:44<00:00,  8.73it/s]\n"
          ]
        },
        {
          "output_type": "stream",
          "name": "stdout",
          "text": [
            "\n",
            "Test set: Average loss: 0.3836, Accuracy: 8716/10000 (87.1600%)\n",
            "\n",
            "\n",
            " current learing rate is 1.25e-06\n",
            "\n",
            " last test loss is 0.38360965256690976\n",
            "EPOCH: 45\n"
          ]
        },
        {
          "output_type": "stream",
          "name": "stderr",
          "text": [
            "Loss=0.5465089678764343 Batch_id=390 Accuracy=84.5620: 100%|██████████| 391/391 [00:45<00:00,  8.67it/s]\n"
          ]
        },
        {
          "output_type": "stream",
          "name": "stdout",
          "text": [
            "\n",
            "Test set: Average loss: 0.3855, Accuracy: 8718/10000 (87.1800%)\n",
            "\n",
            "\n",
            " current learing rate is 1.25e-06\n",
            "\n",
            " last test loss is 0.3855177836894989\n",
            "EPOCH: 46\n"
          ]
        },
        {
          "output_type": "stream",
          "name": "stderr",
          "text": [
            "Loss=0.4446490705013275 Batch_id=390 Accuracy=84.5220: 100%|██████████| 391/391 [00:44<00:00,  8.69it/s]\n"
          ]
        },
        {
          "output_type": "stream",
          "name": "stdout",
          "text": [
            "\n",
            "Test set: Average loss: 0.3827, Accuracy: 8718/10000 (87.1800%)\n",
            "\n",
            "\n",
            " current learing rate is 1.25e-06\n",
            "\n",
            " last test loss is 0.38271548805236816\n",
            "EPOCH: 47\n"
          ]
        },
        {
          "output_type": "stream",
          "name": "stderr",
          "text": [
            "Loss=0.4054376482963562 Batch_id=390 Accuracy=84.5840: 100%|██████████| 391/391 [00:44<00:00,  8.72it/s]\n"
          ]
        },
        {
          "output_type": "stream",
          "name": "stdout",
          "text": [
            "\n",
            "Test set: Average loss: 0.3837, Accuracy: 8719/10000 (87.1900%)\n",
            "\n",
            "Epoch 00048: reducing learning rate of group 0 to 6.2500e-08.\n",
            "\n",
            " current learing rate is 6.250000000000001e-08\n",
            "\n",
            " last test loss is 0.38365881009101865\n",
            "EPOCH: 48\n"
          ]
        },
        {
          "output_type": "stream",
          "name": "stderr",
          "text": [
            "Loss=0.30265533924102783 Batch_id=390 Accuracy=84.3260: 100%|██████████| 391/391 [00:44<00:00,  8.69it/s]\n"
          ]
        },
        {
          "output_type": "stream",
          "name": "stdout",
          "text": [
            "\n",
            "Test set: Average loss: 0.3825, Accuracy: 8731/10000 (87.3100%)\n",
            "\n",
            "\n",
            " current learing rate is 6.250000000000001e-08\n",
            "\n",
            " last test loss is 0.38250882754325866\n",
            "EPOCH: 49\n"
          ]
        },
        {
          "output_type": "stream",
          "name": "stderr",
          "text": [
            "Loss=0.42657095193862915 Batch_id=390 Accuracy=84.5120: 100%|██████████| 391/391 [00:44<00:00,  8.70it/s]\n"
          ]
        },
        {
          "output_type": "stream",
          "name": "stdout",
          "text": [
            "\n",
            "Test set: Average loss: 0.3821, Accuracy: 8726/10000 (87.2600%)\n",
            "\n",
            "\n",
            " current learing rate is 6.250000000000001e-08\n",
            "\n",
            " last test loss is 0.38207943773269654\n",
            "EPOCH: 50\n"
          ]
        },
        {
          "output_type": "stream",
          "name": "stderr",
          "text": [
            "Loss=0.6180018186569214 Batch_id=390 Accuracy=84.6620: 100%|██████████| 391/391 [00:45<00:00,  8.67it/s]\n"
          ]
        },
        {
          "output_type": "stream",
          "name": "stdout",
          "text": [
            "\n",
            "Test set: Average loss: 0.3846, Accuracy: 8706/10000 (87.0600%)\n",
            "\n",
            "\n",
            " current learing rate is 6.250000000000001e-08\n",
            "\n",
            " last test loss is 0.3845933741569519\n"
          ]
        }
      ]
    },
    {
      "cell_type": "code",
      "source": [
        "plot_misclassified_images(incorrect_examples, incorrect_pred, incorrect_labels)\n"
      ],
      "metadata": {
        "id": "uRl6xjP4z4kJ",
        "colab": {
          "base_uri": "https://localhost:8080/",
          "height": 540
        },
        "outputId": "7788d711-daa2-4846-f21a-55b0289d651f"
      },
      "execution_count": 10,
      "outputs": [
        {
          "output_type": "stream",
          "name": "stderr",
          "text": [
            "WARNING:matplotlib.image:Clipping input data to the valid range for imshow with RGB data ([0..1] for floats or [0..255] for integers).\n",
            "WARNING:matplotlib.image:Clipping input data to the valid range for imshow with RGB data ([0..1] for floats or [0..255] for integers).\n",
            "WARNING:matplotlib.image:Clipping input data to the valid range for imshow with RGB data ([0..1] for floats or [0..255] for integers).\n",
            "WARNING:matplotlib.image:Clipping input data to the valid range for imshow with RGB data ([0..1] for floats or [0..255] for integers).\n"
          ]
        },
        {
          "output_type": "display_data",
          "data": {
            "text/plain": [
              "<Figure size 640x480 with 15 Axes>"
            ],
            "image/png": "[encoded data removed]"
          },
          "metadata": {}
        }
      ]
    },
    {
      "cell_type": "code",
      "source": [
        "new_tensor = torch.tensor(train_losses, device = 'cpu')\n",
        "plot_network_performance(new_tensor, test_losses, train_acc, test_acc)"
      ],
      "metadata": {
        "id": "TIsZTmc2FkWs",
        "colab": {
          "base_uri": "https://localhost:8080/",
          "height": 853
        },
        "outputId": "a5450c2b-3d89-4238-ccb8-d9a533aab1c5"
      },
      "execution_count": 11,
      "outputs": [
        {
          "output_type": "display_data",
          "data": {
            "text/plain": [
              "<Figure size 1500x1000 with 4 Axes>"
            ],
            "image/png": "[encoded data removed]"
          },
          "metadata": {}
        }
      ]
    },
    {
      "cell_type": "code",
      "source": [
        "print_train_log(EPOCHS, train_acc, test_acc, train_losses, test_losses, learning_rates)"
      ],
      "metadata": {
        "id": "V2hzJFk9qk1a",
        "colab": {
          "base_uri": "https://localhost:8080/"
        },
        "outputId": "6698e6a6-d414-4466-f934-e52bda9c9e14"
      },
      "execution_count": 19,
      "outputs": [
        {
          "output_type": "stream",
          "name": "stdout",
          "text": [
            "\n",
            "Epoch\t     Train Loss\t     Test Loss     Train Accuracy    Test Accuracy    Learning Rate\n",
            "===========================================================================================\n",
            "1\t\t2.35\t\t1.45\t\t10.1562\t\t45.0100\t\t0.01000000\n",
            "\n",
            "2\t\t2.36\t\t1.27\t\t11.3281\t\t56.7100\t\t0.01000000\n",
            "\n",
            "3\t\t2.35\t\t1.08\t\t11.1979\t\t62.1900\t\t0.01000000\n",
            "\n",
            "4\t\t2.29\t\t0.84\t\t11.7188\t\t70.1900\t\t0.01000000\n",
            "\n",
            "5\t\t2.32\t\t0.84\t\t11.8750\t\t70.5000\t\t0.01000000\n",
            "\n",
            "6\t\t2.31\t\t0.92\t\t12.7604\t\t70.0800\t\t0.01000000\n",
            "\n",
            "7\t\t2.25\t\t0.79\t\t13.9509\t\t73.3400\t\t0.01000000\n",
            "\n",
            "8\t\t2.29\t\t0.76\t\t14.7461\t\t74.5000\t\t0.01000000\n",
            "\n",
            "9\t\t2.27\t\t0.73\t\t15.2778\t\t75.1700\t\t0.01000000\n",
            "\n",
            "10\t\t2.27\t\t0.78\t\t14.8438\t\t73.8400\t\t0.01000000\n",
            "\n",
            "11\t\t2.27\t\t0.69\t\t15.2699\t\t76.4600\t\t0.01000000\n",
            "\n",
            "12\t\t2.26\t\t0.61\t\t15.3646\t\t79.4300\t\t0.01000000\n",
            "\n",
            "13\t\t2.25\t\t0.63\t\t15.5048\t\t78.6700\t\t0.01000000\n",
            "\n",
            "14\t\t2.19\t\t0.55\t\t16.1272\t\t81.3600\t\t0.01000000\n",
            "\n",
            "15\t\t2.21\t\t0.67\t\t16.0938\t\t77.9100\t\t0.01000000\n",
            "\n",
            "16\t\t2.19\t\t0.55\t\t16.2598\t\t80.8300\t\t0.01000000\n",
            "\n",
            "17\t\t2.13\t\t0.54\t\t16.3603\t\t81.5300\t\t0.01000000\n",
            "\n",
            "18\t\t2.17\t\t0.57\t\t16.1458\t\t80.7300\t\t0.01000000\n",
            "\n",
            "19\t\t2.05\t\t0.57\t\t16.4474\t\t80.5300\t\t0.01000000\n",
            "\n",
            "20\t\t2.07\t\t0.50\t\t16.7578\t\t82.9500\t\t0.01000000\n",
            "\n",
            "21\t\t2.12\t\t0.57\t\t17.0387\t\t81.3100\t\t0.01000000\n",
            "\n",
            "22\t\t2.06\t\t0.65\t\t17.6136\t\t78.5100\t\t0.01000000\n",
            "\n",
            "23\t\t2.00\t\t0.48\t\t17.9008\t\t83.9900\t\t0.01000000\n",
            "\n",
            "24\t\t2.08\t\t0.52\t\t17.7734\t\t82.4800\t\t0.01000000\n",
            "\n",
            "25\t\t2.01\t\t0.48\t\t18.2188\t\t83.6500\t\t0.01000000\n",
            "\n",
            "26\t\t2.05\t\t0.50\t\t18.2692\t\t83.2800\t\t0.01000000\n",
            "\n",
            "27\t\t2.03\t\t0.51\t\t18.5764\t\t83.4400\t\t0.01000000\n",
            "\n",
            "28\t\t2.06\t\t0.50\t\t18.6384\t\t83.8300\t\t0.01000000\n",
            "\n",
            "29\t\t1.98\t\t0.46\t\t18.7231\t\t84.4900\t\t0.00050000\n",
            "\n",
            "30\t\t2.08\t\t0.39\t\t18.7760\t\t86.5100\t\t0.00050000\n",
            "\n",
            "31\t\t2.03\t\t0.39\t\t18.8508\t\t86.8400\t\t0.00050000\n",
            "\n",
            "32\t\t2.02\t\t0.39\t\t19.2627\t\t86.9000\t\t0.00050000\n",
            "\n",
            "33\t\t1.93\t\t0.39\t\t19.4129\t\t87.1900\t\t0.00050000\n",
            "\n",
            "34\t\t2.01\t\t0.39\t\t19.6461\t\t87.1500\t\t0.00050000\n",
            "\n",
            "35\t\t1.93\t\t0.38\t\t19.8438\t\t87.1000\t\t0.00050000\n",
            "\n",
            "36\t\t1.95\t\t0.38\t\t19.9436\t\t87.2700\t\t0.00002500\n",
            "\n",
            "37\t\t2.02\t\t0.38\t\t20.0802\t\t87.1200\t\t0.00002500\n",
            "\n",
            "38\t\t2.02\t\t0.39\t\t20.2097\t\t87.2900\t\t0.00002500\n",
            "\n",
            "39\t\t1.89\t\t0.38\t\t20.4327\t\t87.3000\t\t0.00002500\n",
            "\n",
            "40\t\t1.91\t\t0.38\t\t20.7031\t\t87.2400\t\t0.00002500\n",
            "\n",
            "41\t\t1.90\t\t0.38\t\t20.9223\t\t87.1800\t\t0.00002500\n",
            "\n",
            "42\t\t1.82\t\t0.38\t\t21.2612\t\t87.2400\t\t0.00000125\n",
            "\n",
            "43\t\t1.88\t\t0.38\t\t21.4390\t\t87.3900\t\t0.00000125\n",
            "\n",
            "44\t\t1.92\t\t0.38\t\t21.6087\t\t87.1100\t\t0.00000125\n",
            "\n",
            "45\t\t1.89\t\t0.38\t\t21.7535\t\t87.1600\t\t0.00000125\n",
            "\n",
            "46\t\t1.98\t\t0.39\t\t21.9260\t\t87.1800\t\t0.00000125\n",
            "\n",
            "47\t\t1.89\t\t0.38\t\t22.0745\t\t87.1800\t\t0.00000125\n",
            "\n",
            "48\t\t1.88\t\t0.38\t\t22.2005\t\t87.1900\t\t0.00000006\n",
            "\n",
            "49\t\t1.87\t\t0.38\t\t22.3374\t\t87.3100\t\t0.00000006\n",
            "\n",
            "50\t\t1.89\t\t0.38\t\t22.5625\t\t87.2600\t\t0.00000006\n",
            "\n",
            "51\t\t1.83\t\t0.38\t\t22.7482\t\t87.0600\t\t0.00000006\n",
            "\n",
            "===========================================================================================\n"
          ]
        }
      ]
    },
    {
      "cell_type": "code",
      "source": [],
      "metadata": {
        "id": "SKI2tISDO8JB"
      },
      "execution_count": null,
      "outputs": []
    }
  ]
}